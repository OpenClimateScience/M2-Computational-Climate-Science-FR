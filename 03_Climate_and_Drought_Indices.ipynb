{
 "cells": [
  {
   "cell_type": "markdown",
   "id": "be74f339-99e2-4d63-8a2c-36af922a67e2",
   "metadata": {},
   "source": [
    "# M2.3 - Indices climatiques et de sécheresse\n",
    "\n",
    "* Participe: * [** Computational Climate Science **] (https://github.com/openClimatescience/M2-Compuational-climate-science) | ** Leçon précédente ** | ** Next Leçon **"
   ]
  },
  {
   "cell_type": "markdown",
   "id": "e91647cb-5949-42d9-b373-b51b9bfb436b",
   "metadata": {},
   "source": [
    "**Contenu:**\n",
    "\n",
    "- [Étudier la sécheresse avec des données climatiques] (# Étude-sécheuse avec des données climatisées)\n",
    "  - [Quantification de la sécheresse] (# Quantification-sécheur)\n",
    "- [Organisation de nos fichiers de projet] (# Organizing-our-Project-Files)\n",
    "- [Reading A Climate Time Series] (# Reading-A-Climate-Time Series)\n",
    "- [Computing des moyennes saisonnières et roulantes] (# Computing-Seasonal and Rolling-Meaverages)\n",
    "  - [Le ​​flux de travail à combine divisé] (# The-Split-Apply-Combine-Workflow)\n",
    "  - [Moyennes de roulement] (# Rolling-Meverages)\n",
    "- [Un modèle simple de seau] (# a-simple-bucket-model)\n",
    "- [Résumé] (# Résumé)"
   ]
  },
  {
   "cell_type": "markdown",
   "id": "46eea113-f177-4d56-ae48-9f7c59afd7f7",
   "metadata": {},
   "source": [
    "## Étude de la sécheresse avec des données climatiques\n",
    "\n",
    "Nous pouvons penser que nous avons une compréhension intuitive de la sécheresse, mais la sécheresse prend de nombreuses formes (Wilhite et Glantz 1985).\n",
    "\n",
    "- ** La sécheresse météorologique ** est une période où les précipitations (précipitations) sont plus petites que certains montants attendus. La quantité de précipitations prévues variera entre les différents endroits mais dépend également de la période de l'année (Palmer 1965).\n",
    "\n",
    "- ** La sécheresse agricole ** se produit lorsque la demande en eau des plantes, en particulier la demande en eau des cultures, dépasse l'approvisionnement en eau, quelle que soit la source.\n",
    "\n",
    "- ** La sécheresse hydrologique ** décrit les effets des conditions sèches sur l'hydrologie de la surface ou de la sous-surface; c'est-à-dire qu'il peut être utilisé pour décrire les conditions de débit faible ou bas pour réservoir. En raison du décalage de temps potentiel entre un déficit d'humidité et un changement d'hydrologie, la sécheresse hydrologique est souvent hors de phase avec d'autres types de sécheresse.\n",
    "\n",
    "- ** La sécheresse socio-économique ** est définie en termes d'effets socio-économiques des conditions sèches: un changement des prix des cultures ou de l'alimentation ou du fourrage animal; ou la perte de moyens de subsistance de la ferme ou de la pêche.\n",
    "\n",
    "À cette liste, nous pourrions ajouter une sorte de sécheresse qui a été reconnue plus récemment comme la technologie de surveillance de l'humidité du sol s'est améliorée: une ** sécheresse de la roi-de suite, ** ou un déficit d'humidité du sol en particulier. Nous avons précédemment introduit ** la sécheresse du flash ** une sorte de sécheresse de la soil-forme caractérisée par son apparition rapide et sa diminution rapide de l'humidité du sol."
   ]
  },
  {
   "cell_type": "markdown",
   "id": "5ced1f4a-fdb1-4940-bf7c-fcab16e8ad47",
   "metadata": {},
   "source": [
    "### Quantification de la sécheresse\n",
    "\n",
    "** Il existe plusieurs approches pour quantifier les impacts de la sécheresse à partir des données climatiques. ** ** Indices de sécheresse, ** comme l'indice de gravité de la sécheresse de Palmer (PDSI, Palmer 1965) et l'indice de précipitation-évapotranspiration standardisé (Spei, Vicente- Serrano et al. 2010), sont couramment utilisés, car ils fournissent une mesure sans dimension de la gravité de la sécheresse qui est facile à interpréter. ** centiles ou classement ** Des conditions hydrologiques peuvent également être utilisées; Par exemple, il est courant de décrire les conditions de manteau neigeux (et la «sécheresse de neige») en termes de pourcentage de la profondeur médiane du manteau de neige historique, à une date donnée.\n",
    "\n",
    "Une approche hydrologique ou d'équilibre de l'eau peut également être utilisée, bien qu'elle nécessite de bonnes données sur les composants d'un budget d'eau à l'échelle du bassin **. ** Nous parlerons davantage des budgets de l'eau plus tard. Pour l'instant, nous pouvons imaginer un simple \"modèle de seau:\" L'eau entre dans l'environnement comme ** Précipitation ** et quitte l'environnement comme ** Evapotranspiration (ET) ** (la somme de l'évaporation des surfaces humides et la transpiration des plantes). Mathématiquement, nous pourrions représenter le modèle de seau comme:\n",
    "$$\n",
    "\\ Texte {Water disponible} = \\ Texte {précipitation} - \\ Texte {et}\n",
    "$$\n",
    "\n",
    "Nous utiliserons ** l'évapotranspiration potentielle (PET) ** comme mesure de l'ET, car il représente la quantité d'eau qui serait évaporée (et transpirée) compte tenu de la quantité d'énergie (principalement la chaleur et le rayonnement solaire) qui est disponible pour vaporiser l'eau. Une façon de définir la sécheresse, conforme aux définitions de sécheresse météorologique, agricole et hydrologique, est en période de temps pendant laquelle les précipitations sont bien inférieures à la quantité d'eau qui pourrait être perdue comme ET."
   ]
  },
  {
   "cell_type": "markdown",
   "id": "ec754407-5cbd-4776-a6be-15e7a468d854",
   "metadata": {},
   "source": [
    "---\n",
    "\n",
    "## Organisation de nos fichiers de projet\n",
    "\n",
    "Aujourd'hui, nous travaillerons avec un ensemble de données appelé [** Climate Hazards Group Group Infrarouge Précipitation avec les données de la station (CHIRPS). **] (https://www.chc.ucsb.edu/data/chirps) CHIRPS combine les données de télédétection à distance avec des ensembles de données sur les stations météorologiques mondiales pour produire un enregistrement mondial de précipitations grincées. Les gazouillis ne sont pas produits par la NASA, mais c'est l'un des meilleurs enregistrements mondiaux des précipitations disponibles.\n",
    "\n",
    "Les données de gazouillis peuvent être téléchargées à partir d'une variété de sources, mais il n'y a pas d'interface comme l'accès cloud de EarthData Search. Au lieu de cela, les fichiers de données individuels peuvent être [téléchargés manuellement à partir d'un serveur] (https://data.chc.ucsb.edu/products/chirps-2.0/) et [this Readme] (https: //data.chc.ucsb. edu / produits / chirps-2.0 / readme-chirps.txt) explique comment télécharger les fichiers.\n",
    "\n",
    "#### & # x1F6A9; <span style = \"Color: Red\"> Faites attention </DID>\n",
    "\n",
    "** Parce que nous apprenons toujours, au lieu de télécharger tous ces fichiers manuellement, nous utiliserons un ensemble de données préparé: ** \n",
    "\n",
    "& # x1F449; ** Cliquez pour télécharger: ** [`chirps-v2_africa_monthly_2014-2024.nc`] (http://files.nsg.umt.edu/data/sciencecore/chirps-v2_africa_monthly_2014-2024.nc)\n",
    "\n",
    "Cet ensemble de données a été produit en fusionnant [les fichiers de gazouillis mensuels individuels pour l'Afrique] (https://data.chc.ucsb.edu/products/chirps-2.0/africa_monthly/tifs/) de 2014 à 2023. Vous pouvez voir [vous pouvez voir [ le script qui a été utilisé pour fusionner les fichiers à ce lien.] (https://github.com/openlimatescience/M2-Computational-cimate-science/Blob/main/scripts/20240611_process_chirps_monthly_into_stack.py) Ce record de 10 ans est plus court que nous ne le ferions généralement utiliser pour déduire la variabilité du climat) , mais nous essayons de garder l'ensemble de données petit.\n",
    "\n",
    "#### & # x1f3af; Meilleure pratique\n",
    "\n",
    "** Nous commençons une nouvelle analyse. Prenons un moment pour organiser le système de fichiers de notre projet.\n",
    "\n",
    "! [] (Assets / m2_file_tree_chirps.png)\n",
    "\n",
    "** Alors que nous commençons à gagner plus de sophistication avec l'écriture de code python scientifique, l'un de nos objectifs devrait être d'écrire du code qui sert également de documentation de notre flux de travail. ** Un défi clé pour la science ouverte et reproductible est de lier les résultats scientifiques à l'ordinateur code à partir duquel ils ont été créés. \n",
    "\n",
    "Une façon de lier les résultats scientifiques à nos scripts Python est d'utiliser un schéma de dénomination ** cohérent avec un identifiant unique qui regroupe les fichiers. , Mois, jour) Format. Ce numéro à 8 chiffres sera toujours unique, car chaque jour est un nouveau jour. Si vous utilisez la date à 8 chiffres d'aujourd'hui dans le nom de fichier de votre script Python et de tout fichier de sortie qu'il génère, vous aurez un moyen d'associer ces fichiers ensemble."
   ]
  },
  {
   "attachments": {},
   "cell_type": "markdown",
   "id": "e45a12e5-d3cd-43da-a2e3-570001c81b15",
   "metadata": {},
   "source": [
    "---\n",
    "\n",
    "## Reading A Climate Time Series\n",
    "\n",
    "** Pour acquérir plus d'expérience en utilisant `xarray` pour analyser les ensembles de données climatiques, nous étudierons une sécheresse en 2024 à Tireret, en Algérie. Région.] (https://apnews.com/article/algeria-serrough-rain-tebboune-teret-riots-09ce23f4ba235aaf1e3afecc7bfe3574) pouvons-nous déterminer à quel point le drowing tireret est étendu et sévère?\n",
    "\n",
    "Comme précédemment, nous utiliserons `xr.open_mfdataset ()` (\"Ouvrir un ensemble de données multiples-fichiers\") pour ouvrir cet ensemble de données. Même s'il n'y a qu'un seul fichier, `xr.open_mfdataset ()` nous permet d'accéder à certaines fonctionnalités utiles dans la bibliothèque `Dask`.\n",
    "\n",
    "Par exemple, notez que la sortie associée à la `` `` DataRay \"comprend des informations sur la taille totale du tableau (1,12 gib ou gigaoctets)."
   ]
  },
  {
   "cell_type": "code",
   "execution_count": null,
   "id": "072e323f-eb19-493f-86d2-4a2ec43d1901",
   "metadata": {},
   "outputs": [],
   "source": [
    "import xarray as xr\n",
    "import numpy as np\n",
    "\n",
    "ds = xr.open_mfdataset('data_raw/CHIRPS/CHIRPS-v2_Africa_monthly_2014-2024.nc')\n",
    "ds['precip']"
   ]
  },
  {
   "cell_type": "markdown",
   "id": "3e9a36c4-d921-4f6f-9013-02d5f7477d7e",
   "metadata": {},
   "source": [
    "Ces 1,12 gigaoctets n'ont pas encore été alloués en mémoire; Au contraire, la variable «DS» pointe vers A * Représentation * de l'ensemble de données qui est stocké sur le disque dur. Ceci est un autre exemple d'évaluation ** paresseuse, ** qui sonne mal mais qui est en fait une bonne chose: «XArray» ne lira pas les données en mémoire tant que nous ne sommes pas réellement prêts à effectuer une sorte de calcul. Et parce que nous avons utilisé `xr.open_mfdataset () ',` xarray` et `dask` s'assurera que la taille des données chargée ne dépasse pas la mémoire disponible de notre ordinateur; Si l'ensemble de données est plus grand que la mémoire de notre ordinateur, il en chargera des morceaux plus petits, en traitant une ou plusieurs pièces à la fois.\n",
    "\n",
    "** La prochaine chose que nous devrions faire est de remplacer les valeurs Nodata dans notre ensemble de données. ** La fonction `xr.where ()` fonctionne comme `np.where ()`; Nous fournissons une expression conditionnelle sur un `xArray.DataArray` comme premier argument, puis la valeur à retourner si elle est vraie, puis la valeur à retourner si elle est fausse."
   ]
  },
  {
   "cell_type": "code",
   "execution_count": null,
   "id": "b2961f27-a710-478b-b927-70f716673954",
   "metadata": {},
   "outputs": [],
   "source": [
    "ds['precip'] = xr.where(ds['precip'] == -9999, np.nan, ds['precip'])"
   ]
  },
  {
   "cell_type": "markdown",
   "id": "bba511ac-c851-43d6-9677-ec11be034c0b",
   "metadata": {},
   "source": [
    "Nous sommes maintenant prêts à tracer certaines données. Nous pouvons sélectionner une date arbitraire à l'aide de la méthode «sel ()», spécifiant que nous souhaitons sous-ensemble la dimension `` Time ». Toute dimension avec `DateTime64 [NS]` Les coordonnées peuvent être sous-ensemble en utilisant un horodatage formaté selon [la norme ISO 8601] (https://en.wikipedia.org/wiki/iso_8601), par exemple, `\" 2023-07-01 \"`."
   ]
  },
  {
   "cell_type": "code",
   "execution_count": null,
   "id": "0b74a644-1ad3-468b-920c-cfc11f2ed4da",
   "metadata": {},
   "outputs": [],
   "source": [
    "ds['precip'].sel(time = '2023-07-01').plot()"
   ]
  },
  {
   "cell_type": "markdown",
   "id": "2f7a2fa0-0da2-4910-b7b6-2b6b30f7fde3",
   "metadata": {},
   "source": [
    "#### & # x1F3C1; Défi: calculer les précipitations annuelles moyennes\n",
    "\n",
    "Notre ensemble de données a des précipitations mensuelles sur une période de dix ans. Faire une parcelle de précipitations annuelles moyennes. ** Vous devriez le faire en deux étapes: **\n",
    "\n",
    "- Utilisez la méthode `Resample () ', suivie de` sum () `pour calculer la * précipitation totale * de chaque année. [N'oubliez pas que vous pouvez consulter ce tableau pour trouver quelles fréquences de rééchantillonnage sont disponibles.] (Https://pandas.pydata.org/pandas-docs/stable/user_guide/timeseries.html#dateoffset-objects)\n",
    "- Ensuite, calculez les précipitations annuelles moyennes.\n",
    "\n",
    "Développez la cellule ci-dessous pour voir ma solution."
   ]
  },
  {
   "cell_type": "code",
   "execution_count": null,
   "id": "8ad26772-5896-4595-a38e-8617936edbcb",
   "metadata": {
    "jupyter": {
     "source_hidden": true
    }
   },
   "outputs": [],
   "source": [
    "# First, add up monthly precipitation (over 12 months) in each year\n",
    "annual_precip = ds['precip'].resample(time = 'YS').sum()\n",
    "# Then, calculate the average (mean) annual precipitation\n",
    "mean_annual_precip = annual_precip.mean('time')\n",
    "mean_annual_precip.plot()"
   ]
  },
  {
   "cell_type": "markdown",
   "id": "c44cedb4-9b22-4f9f-9313-4cb26fae2af5",
   "metadata": {},
   "source": [
    "---\n",
    "\n",
    "## Computing des moyennes saisonnières et roulantes\n",
    "\n",
    "En plus de rééchantillonner nos données à des intervalles annuels, nous pourrions rééchantillonner les données afin qu'elle reflète les moyennes saisonnières. Pour ce faire, nous utilisons la fréquence `\" QS \"(début du trimestre). N'oubliez pas que `Reslemple ()` doit être suivi d'une sorte de fonction d'agrégation; Nous utilisons «sum ()» parce que nous voulons additionner les précipitations mensuelles à chaque saison."
   ]
  },
  {
   "cell_type": "code",
   "execution_count": null,
   "id": "e21a1f3d-92ed-4f18-8036-1f49e067c627",
   "metadata": {},
   "outputs": [],
   "source": [
    "seasonal_precip = ds['precip'].resample(time = 'QS').sum()\n",
    "seasonal_precip"
   ]
  },
  {
   "cell_type": "markdown",
   "id": "635f01c9-e8f3-4c11-9eb1-b34e700f1801",
   "metadata": {},
   "source": [
    "& # x1F449; ** Notez que les trimestres sont représentés par le mois de départ; ** C'est-à-dire que le trimestre 1 (Q1) commence en janvier, le trimestre 2 (Q2) commence en avril, etc."
   ]
  },
  {
   "cell_type": "code",
   "execution_count": null,
   "id": "16aa3e76-1145-443a-9d8c-95b3b86441b7",
   "metadata": {},
   "outputs": [],
   "source": [
    "seasonal_precip.coords['time']"
   ]
  },
  {
   "cell_type": "markdown",
   "id": "17461294-c3bc-4c64-8908-aa6f1428c70c",
   "metadata": {},
   "source": [
    "### le flux de travail à combine partout\n",
    "\n",
    "Nous venons d'utiliser la fonction `Resemple () ', ci-dessus, pour agréger nos données mensuelles aux données saisonnières (ou trimestrielles). Une autre façon d'agréger nos données serait de calculer la moyenne saisonnière globale; Par exemple, quelles sont les précipitations saisonnières moyennes au premier trimestre (janvier à avril)?\n",
    "\n",
    "Pour répondre à cette question, nous pouvons prendre nos données saisonnières et * regrouper les données par saison, puis calculer la valeur moyenne de chaque saison. * Rappelez-vous qu'une méthode `xarray.dataarray` a une méthode` `GroupBy () 'à cet effet.\n",
    "\n",
    "#### & # x1F6A9; <span style = \"Color: Red\"> Faites attention </DID>\n",
    "\n",
    "** Ci-dessous, nous nous regroupons par `\" Time.month \"\" Même si nous n'avons pas de données mensuelles; Nous avons des données saisonnières (voir l'étape précédente). ** Les coordonnées de nos données saisonnières ont toujours un «mois» et il n'y a que quatre (4) mois uniques dans nos données saisonnières: janvier, avril, juillet, et octobre, représentant le début de chaque trimestre (ou saison). Par conséquent, lorsque nous regroupons les données par mois, nous regroupons en fait les données par saison."
   ]
  },
  {
   "cell_type": "code",
   "execution_count": null,
   "id": "a9d1e5b5-c3f3-4df7-83fb-a9c84f6f0cde",
   "metadata": {},
   "outputs": [],
   "source": [
    "mean_seasonal_precip = seasonal_precip.groupby('time.month').mean()\n",
    "mean_seasonal_precip"
   ]
  },
  {
   "cell_type": "markdown",
   "id": "50564add-df22-4012-b9ec-8382912e70c4",
   "metadata": {},
   "source": [
    "** Lorsque nous utilisons `groupBy () 'et une fonction d'agrégation comme` Mean ()', nous utilisons le flux de travail à combustible divisé: ** \n",
    "\n",
    "1. Nous * divisons les données * en différents groupes. Dans cet exemple, les groupes sont les mois uniques (saisons).\n",
    "2. Nous appliquons ensuite * une fonction à chaque groupe. Dans cet exemple, nous avons appliqué la fonction `` moyenne () 'à chaque groupe.\n",
    "3. Enfin, nous * combinons * le résultat, pour chaque groupe, ensemble. Cette dernière étape est effectuée automatiquement et entraîne un seul cube de données pour tous les groupes. Dans cet exemple, nous nous retrouvons avec un cube de données qui a une nouvelle dimension «mois» avec quatre (4) éléments, un pour chaque groupe (mensuel ou saisonnier).\n",
    "\n",
    "** Nous pouvons maintenant tracer les précipitations saisonnières moyennes au premier trimestre (janvier à avril). **"
   ]
  },
  {
   "cell_type": "code",
   "execution_count": null,
   "id": "4868e1c0-1c7f-44c5-b4d1-483c0c5d2315",
   "metadata": {},
   "outputs": [],
   "source": [
    "mean_seasonal_precip.sel(month = 1).plot()"
   ]
  },
  {
   "cell_type": "markdown",
   "id": "e466aa56-a335-42d9-bc31-129e95e22af6",
   "metadata": {},
   "source": [
    "### Moyennes de roulement\n",
    "\n",
    "Concentrons-nous maintenant sur la région de Tireret. Encore une fois, nous pouvons utiliser la méthode «sel ()» et la fonction «Slice ()» intégrée pour créer un sous-ensemble spatial autour de Tireret, d'environ 0,8 à 1,8 degrés de longitude est et de 35,1 à 36,1 degrés nord.\n",
    "\n",
    "#### & # x1F6A9; <span style = \"Color: Red\"> Faites attention </DID>\n",
    "\n",
    "** Notez que, ci-dessous, nous donnons les coordonnées de latitude ou `y` dans l'ordre descendant:` Slice (36.1, 35.1) `. Le même ordre que les coordonnées des données, et les coordonnées de cet ensemble de données vont des latitudes du nord au sud, ou de +90 à -90 degrés latitude.\n",
    "\n",
    "Calculons également les précipitations annuelles dans la région de Tireret, chaque année, en utilisant `Resample () 'et` sum ()', comme précédemment."
   ]
  },
  {
   "cell_type": "code",
   "execution_count": null,
   "id": "911b782e-9fac-45f4-b81c-9e9d8ed28eb0",
   "metadata": {},
   "outputs": [],
   "source": [
    "# Note the slice() order for the y coordinate must go from +90 to -90\n",
    "ds_tiaret = ds.sel(x = slice(0.8, 1.8), y = slice(36.1, 35.1))\n",
    "\n",
    "tiaret_precip = ds_tiaret['precip'].resample(time = 'YS').sum()\n",
    "tiaret_precip"
   ]
  },
  {
   "cell_type": "markdown",
   "id": "adf05736-d6a2-4db4-bca3-75249fe630cd",
   "metadata": {},
   "source": [
    "Nous pouvons ensuite calculer l'anomalie annuelle des précipitations annuelles ** en soustrayant les précipitations annuelles moyennes globales. \n",
    "\n",
    "Pour montrer un tracé de ligne de la série chronologique, nous devons également faire une moyenne sur la région de Tireret, la région de 20 x 20 pixels que nous avons sélectionnée en utilisant `Slice () ', ci-dessus."
   ]
  },
  {
   "cell_type": "code",
   "execution_count": null,
   "id": "7f661491-24ca-4901-9a06-85e63f844887",
   "metadata": {},
   "outputs": [],
   "source": [
    "tiaret_anomaly = tiaret_precip - tiaret_precip.mean('time')\n",
    "\n",
    "# Average over the 20-by-20 pixel region around Tiaret\n",
    "tiaret_anomaly.mean(['x', 'y']).plot()"
   ]
  },
  {
   "cell_type": "markdown",
   "id": "0254a0de-cd9a-4bd6-a6de-5ccf42535af9",
   "metadata": {},
   "source": [
    "2024 semble très négatif dans l'intrigue ci-dessus, mais n'oublions pas que notre ensemble de données ne comprend que les cinq premiers mois de 2024. Étant donné que nous comparons les précipitations annuelles dans chacun, il n'est pas approprié d'utiliser des données partielles de 2024. ** Regardons plutôt aux anomalies mensuelles des précipitations. **\n",
    "\n",
    "Encore une fois, nous utilisons notre flux de travail ** à plisser-applications ** pour diviser les données en groupes (mensuels), puis `appliquer () 'une fonction pour calculer l'anomalie. Notez que la fonction que nous avons appliquée est une fonction «Lambda»; Il fonctionne sur une certaine quantité «X», en soustrayant la valeur moyenne, `x.mean ()» de chaque pas de temps (mensuel). Parce que nous nous sommes regroupés par `` Time.month '', nos anomalies de précipitation sont relatives au mois civil correspondant. Par exemple, l'anomalie «2014-01-01» est relative à la moyenne de janvier globale."
   ]
  },
  {
   "cell_type": "code",
   "execution_count": null,
   "id": "1349485f-ed07-4fd1-8085-32452f3f33a3",
   "metadata": {},
   "outputs": [],
   "source": [
    "precip_anomaly = ds_tiaret['precip'].groupby('time.month').apply(lambda x: x - x.mean())\n",
    "precip_anomaly"
   ]
  },
  {
   "cell_type": "markdown",
   "id": "089a44a6-e989-4c05-ac54-5f1c2bf45c7f",
   "metadata": {},
   "source": [
    "Nous pouvons ensuite tracer les anomalies mensuelles des précipitations."
   ]
  },
  {
   "cell_type": "code",
   "execution_count": null,
   "id": "42e68ad4-219b-41d3-8ac6-ca9340b8c7a1",
   "metadata": {},
   "outputs": [],
   "source": [
    "# Again, we average over the spatial domain of our Tiaret subset\n",
    "precip_anomaly.mean(['x', 'y']).plot()"
   ]
  },
  {
   "cell_type": "markdown",
   "id": "0d81db53-63e2-4a3e-88ba-7ba525532fd1",
   "metadata": {},
   "source": [
    "Il y a beaucoup de variations dans ce tracé qui rend difficile de voir des modèles dans les données. ** Nous pouvons appliquer une moyenne de roulement aux données en utilisant la méthode `rolling () 'd'une` XArray.DataArray'. **"
   ]
  },
  {
   "cell_type": "code",
   "execution_count": null,
   "id": "e2628f53-f1fa-448e-bd53-f39c61bd3c09",
   "metadata": {},
   "outputs": [],
   "source": [
    "precip_anomaly.rolling(time = 6).mean().mean(['x', 'y']).plot()"
   ]
  },
  {
   "cell_type": "markdown",
   "id": "76e8ff1a-1f97-4222-9338-3060985c9dad",
   "metadata": {},
   "source": [
    "** Cela a pour effet de lisser les données, ce qui nous permet de voir que la sécheresse du Tireret est en partie causée par une tendance de séchage pluriannuelle. **"
   ]
  },
  {
   "cell_type": "markdown",
   "id": "8456785c-1f4d-4f66-b0f2-7391f8b1e352",
   "metadata": {},
   "source": [
    "---\n",
    "\n",
    "## Un modèle de seau simple\n",
    "\n",
    "Bien que les anomalies des précipitations que nous avons calculées, ci-dessus, nous donnent des informations sur le changement de l'approvisionnement en eau (précipitations), ils ne nous donnent aucune information sur le changement de la demande ou des pertes en eau, comme le résultat d'une atmosphère plus chaude ou plus sèche. Rappelons qu'une meilleure mesure des impacts de sécheresse hydrologique est la * différence * entre l'offre en eau et la demande en eau, comme en témoigne les précipitations moins potentielles ET (PET):\n",
    "$$\n",
    "\\ Texte {eau disponible} \\ approx \\ texte {précipitation} - \\ texte {pet}\n",
    "$$\n",
    "\n",
    "Ici, nous considérerons une légère variation de cet indice de sécheresse hydrologique, ** le rapport précipitation / pet **, qui peut être interprété comme la proportion (ou pourcentage) de la demande en eau (PET) qui est reconstituée par les précipitations:\n",
    "$$\n",
    "\\ text {pourcentage reconstitué} \\ environ 100 \\ Times \\ frac {\\ text {précipitation}} {\\ text {pet}}\n",
    "$$\n",
    "\n",
    "Bien qu'il existe [de nombreuses façons différentes de calculer PET (Pimentel et al. 2023)] (https://doi.org/10.1029/2022wr033447), nous utiliserons [les Hargreaves Méthode] (https://www.fao.org/4/x0490e/x0490e07.htm#minimum%20data%20Requirements) (Allen et al. 2000), qui ne nécessite que des données de température.\n",
    "\n",
    "Les données de température que nous utiliserons proviennent de [** Terraclimate ** (Abatzoglou et al. 2018)] (https://climatedataguide.ucar.edu/climate-data/terraclimate-hobal-high-resolution-gridded-temperature- Précipitation et autre eau), un ensemble de données de température global et grindé. Il existe de nombreuses façons de télécharger des données sur la terre cuite; En raison de sa haute résolution, les tailles de fichiers peuvent être assez importantes, nous allons donc utiliser un fichier créé à partir de [cet outil de sous-set en ligne pratique] (https://climate.northwestknowledge.net/nwtoolbox/formatteddownloads.php).\n",
    "\n",
    "& # x1F449; ** Cliquez pour télécharger: ** [`Terraclimate_35.3709n_-1.3218w.csv`] (http://files.ntsg.umt.edu/data/sciencecore/terraclimate_35.3709n_-1.3218w.csv)\n",
    "\n",
    "Ce fichier contient des données de séries chronologiques climatiques pour la région de Tireret, de 1958 à nos jours."
   ]
  },
  {
   "cell_type": "code",
   "execution_count": null,
   "id": "69b61a50-0976-4a47-aa20-4c8ef38088a5",
   "metadata": {},
   "outputs": [],
   "source": [
    "import pandas as pd\n",
    "\n",
    "pet = pd.read_csv('data_raw/terraclimate_35.3709N_-1.3218W.csv', skiprows = 11)\n",
    "\n",
    "# Let's look at just the data since 2014\n",
    "pet = pet[pet['Year'] >= 2014]\n",
    "pet"
   ]
  },
  {
   "cell_type": "markdown",
   "id": "b8795283-bdba-4aed-b131-fe2befa5315e",
   "metadata": {},
   "source": [
    "L'ensemble de données Terraclimate comprend des données TEP, calculées comme \"référence et\" selon l'approche FAO Penman-Monteith. Dans la prochaine leçon, nous calculerons les animaux de compagnie nous-mêmes en utilisant la méthode Hargreaves. \n",
    "\n",
    "Mais, pour l'instant, combinons l'estimation du TEP à partir de terreur avec les données de précipitations de gazouillis pour calculer un simple indice hydrologique de sécheresse."
   ]
  },
  {
   "cell_type": "code",
   "execution_count": null,
   "id": "617b0bc2-6dc4-4390-841b-710c9a977101",
   "metadata": {},
   "outputs": [],
   "source": [
    "ds_tiaret['precip']"
   ]
  },
  {
   "cell_type": "markdown",
   "id": "4171cabd-b562-4fd8-b12e-74e0ab6aaae8",
   "metadata": {},
   "source": [
    "Nous sélectionnons les 120 premiers mois des précipitations de gazouillis, calculons la moyenne sur la région du Tireret et divisez cela par Tetlimate PET."
   ]
  },
  {
   "cell_type": "code",
   "execution_count": null,
   "id": "868e4caa-ee10-4cb0-b8eb-d023494015f8",
   "metadata": {},
   "outputs": [],
   "source": [
    "from matplotlib import pyplot\n",
    "\n",
    "# NOTE: The CHIRPS data extend monthly through May 2024, but the PET data\n",
    "#    do not, so we have to subset the CHIRPS data to the first 120 months\n",
    "precip_pet_ratio = 100 * ds_tiaret['precip'].isel(time = slice(0, 120)).mean(['x','y']) / pet['pet(mm)']\n",
    "precip_pet_ratio.plot()\n",
    "pyplot.ylabel('Precipitation-to-PET Ratio (%)')\n",
    "pyplot.title('Precipitation-to-PET Ratio for Tiaret, Algeria')\n",
    "pyplot.savefig('results/20240610_Tiaret_precip-to-PET_ratio.png', dpi = 172)"
   ]
  },
  {
   "cell_type": "markdown",
   "id": "657dc607-8818-406e-8744-fe688e195f9e",
   "metadata": {},
   "source": [
    "Dans le graphique ci-dessus, les valeurs supérieures à 100% indiquent des mois où l'offre de précipitations dépasse les demandes. Nous pouvons en déduire que l'excès de précipitations restaure l'approvisionnement en eau du sol, tampon contre la perte d'eau pendant la saison sèche.\n",
    "\n",
    "Ici, nous constatons à nouveau que la récente sécheresse du tiareret est précédée de plusieurs années de précipitations inadéquates de saison humide. Alors que la plupart des saisons humides fournissent plus de 100% de l'eau exigée par PET, les saisons humides récentes ont fourni moins de précipitations que ce qui aurait pu être perdu par PET."
   ]
  },
  {
   "cell_type": "markdown",
   "id": "15fd9a48-11fa-47c2-9e10-f57a633ed01e",
   "metadata": {},
   "source": [
    "---\n",
    "\n",
    "## Résumé\n",
    "\n",
    "- Il existe différents types de sécheresse mais aussi différentes façons de quantifier la sécheresse en fonction des données climatiques. En plus des indices de sécheresse comme l'indice de gravité de la sécheresse de Palmer (PDSI, Palmer 1965) et l'indice standardisé des précipitations-évapotranspiration (Spei, Vicente-Serrano et al. 2010), une simple approche de bilan d'eau peut être utilisée, où les conditions de sécheresse sont caractérisées par un grand déficit dans l'approvisionnement en eau. Cela peut être calculé en tant que différence entre les précipitations et l'évapotranspiration potentielle (TEP).\n",
    "\n",
    "- Un ** Schéma de dénonciation de fichiers cohérent, ** Utilisation d'un identifiant unique comme la date actuelle au format `yyymmdd` peut aider à relier les fichiers de code Python, les ensembles de données dérivés et les figures ou les tableaux de sortie. Cela facilite la détermination de ce que le script Python a généré une certaine sortie d'intérêt.\n",
    "\n",
    "- `xarray.open_mfdataset ()` peut être utilisé pour ouvrir un ou plusieurs fichiers à l'aide de la bibliothèque `Dask`, ce qui permettra à l'analyse de grands ensembles de données même s'ils ne s'intègrent pas dans la mémoire de l'ordinateur.\n",
    "\n",
    "- [Le ​​** Split-Apply-Combine ** Workflow] (https://xarray.pydata.org/en/v2024.06.0/user-guide/groupby.html) peut être utilisé pour diviser un ensemble de données en plusieurs groupes, Appliquez une fonction sur chaque groupe et combinez les résultats ensemble. Avec `xArray ', le flux de travail consiste à utiliser la méthode` GroupBy ()' d'une `xArray.DataArray ', suivie d'une fonction d'agrégation comme` Mean () `ou` sum () `ou la plus générale` appliquer () «Méthode.\n",
    "\n",
    "- Les précipitations infrarouges [** Climate Ranges Group avec les données de la station (CHIRPS) **] (https://www.chc.ucsb.edu/data/chirps) combinent des données de télédétection avec des données de données de la station météorologique mondiale pour produire un global Record de précipitations grincées.\n",
    "\n",
    "- [** Terraclimate ** (Abatzoglou et al. 2018)] (https://climatedataguide.ucar.edu/climate-data/terraclimate-global-high-resolution-gridded-temperature-precipitation-and-other-water) , est un ensemble de données climatiques globales, à haute résolution et grindsées qui comprend la température, le rayonnement solaire et le potentiel évapotranspiration."
   ]
  },
  {
   "cell_type": "markdown",
   "id": "e49e021c-87d9-4d7e-8d11-af0080f78744",
   "metadata": {},
   "source": [
    "---\n",
    "\n",
    "### Plus de ressources\n",
    "\n",
    "- [Groupby: Données de groupe et de bac] (https://xarray.pydata.org/en/v2024.06.0/user-guide/groupby.html), `xarray` documentation\n",
    "\n",
    "### références\n",
    "\n",
    "Abatzoglou, J. T., S. Z. Dobrowski, S. A. Parks et K. C. Hegewisch. 2018. Terraclimate, un ensemble de données mondial haute résolution du climat mensuel et de l'équilibre hydrique climatique de 1958 à 2015. * Données scientifiques * 5 (1): 170191.\n",
    "\n",
    "Allen, R. G., Pereira, Luis S., Raes, Dirk S. et Smith, Martin Eds. 2000. [Évapotranspiration des cultures: directives pour calculer les exigences en matière d'eau des cultures] (https://www.fao.org/4/x0490e/x0490e00.htm.) Repr. Rome: Organisation de l'alimentation et de l'agriculture des Nations Unies.\n",
    "\n",
    "Ault, T. R. 2020. Sur l'essentiel de la sécheresse dans un climat changeant. * Science * 368 (6488): 256–260.\n",
    "\n",
    "Palmer, Wayne C. Sécheresse météorologique. Vol. 30. Département américain du commerce, Bureau météorologique, 1965.\n",
    "\n",
    "Wilhite, D. A. et M. H. Glantz. 1985. Comprendre le phénomène de sécheresse: le rôle des définitions. * Water International * 10 (3): 111–120.\n",
    "\n",
    "Wu, i-pai. 1997. Un modèle d'évapotranspiration simple pour Hawaï: le modèle Hargreaves. Cooperative Extension Service, College of Tropical Agriculture and Human Resources, Université d'Hawaï à Manoa. https://www.ctahr.hawaii.edu/oc/freepubs/pdf/en-106.pdf.\n",
    "\n",
    "Vicente-Serrano, S. M., S. Beguería et J. I. López-Moreno. 2010. Un indice de sécheresse multiscalaire sensible au réchauffement climatique: l'indice standardisé des précipitations d'évapotranspiration. * Journal of Climate * 23 (7): 1696–1718."
   ]
  }
 ],
 "metadata": {
  "kernelspec": {
   "display_name": "Python 3 (ipykernel)",
   "language": "python",
   "name": "python3"
  },
  "language_info": {
   "codemirror_mode": {
    "name": "ipython",
    "version": 3
   },
   "file_extension": ".py",
   "mimetype": "text/x-python",
   "name": "python",
   "nbconvert_exporter": "python",
   "pygments_lexer": "ipython3",
   "version": "3.10.12"
  }
 },
 "nbformat": 4,
 "nbformat_minor": 5
}
