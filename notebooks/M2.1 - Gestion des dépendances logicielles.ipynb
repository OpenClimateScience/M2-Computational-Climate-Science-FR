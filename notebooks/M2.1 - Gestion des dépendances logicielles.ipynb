{
 "cells": [
  {
   "cell_type": "markdown",
   "id": "be74f339-99e2-4d63-8a2c-36af922a67e2",
   "metadata": {},
   "source": [
    "# M2.1 - Gestion des dépendances logicielles\n",
    "\n",
    "*Partie de:* [**Computational Climate Science**](https://github.com/openClimatescience/M2-Compuational-climate-science) | [**Leçon Suivente**](https://github.com/openClimatescience/M2-Computational-Climate-science/Blob/Main/NoteBooks/02_Working_With_Gridded_Climate_Data.Ipynb)."
   ]
  },
  {
   "cell_type": "markdown",
   "id": "e91647cb-5949-42d9-b373-b51b9bfb436b",
   "metadata": {},
   "source": [
    "**Contenu:**\n",
    "\n",
    "- [Utilisation de packages Python](#Using-Python-Packages). \n",
    "- [Gérer les packages Python avec `pip`](#Manager-Python-Packages-with-pip)\n",
    "  - [Installation d'un package en utilisant `pip`](#Installing-a-package-with-pip)"
   ]
  },
  {
   "cell_type": "markdown",
   "id": "a7e2dd44-a843-40db-a6a2-81228d0fb324",
   "metadata": {},
   "source": [
    "---\n",
    "\n",
    "## Utilisation de packages Python\n",
    "\n",
    "Python est un langage de programmation à usage général. Il peut être utilisé pour écrire tout type de programme; Autrement dit, il peut être utilisé pour rédiger des instructions pour un ordinateur pour effectuer tout type de tâche. Mais l'une des meilleures choses à propos de Python est qu'elle a été adoptée par une large communauté d'utilisateurs. Ces utilisateurs ont déjà écrit *des centaines de milliers* de packages Python liés à presque tous les sujets auxquels vous pouvez penser. **Vous pouvez télécharger des packages Python à partir de l'index Python Package Index (PYPI):**\n",
    "\n",
    "&#x1F449; [Python Package Index (PyPI): https://pypi.org/](https://pypi.org/)\n",
    "\n",
    "Les packages disponibles en téléchargement sur PYPI sont **des logiciels open-source;** J'espère que vous avez déjà appris sur les logiciels open-source déjà à partir du cours sur [**NASA's Open Science 101 (OS101).**](https://openscience101.org/ ) OS101 fournit une bonne définition du logiciel open source:\n",
    "\n",
    "> Le logiciel open-source est distribué avec son code source sans coût, ce qui le rend disponible pour que d'autres puissent utiliser, modifier et distribuer avec ses droits et autorisations d'origine.\n",
    "\n",
    "**L'utilisation d'un logiciel open source que d'autres ont développé vous fait gagner du temps et des efforts.** Vous pensez peut-être déjà à un code que vous devez écrire pour une tâche spécifique; Mais il y a une chance que quelqu'un d'autre l'a déjà écrit et vous a donné la permission de le réutiliser gratuitement!\n",
    "\n",
    "Par exemple, dans [le module précédent](https://github.com/openLImateScience/M1-Open-Climate-Data-FR), nous voulions faire des choses comme télécharger des ensembles de données NASA depuis Internet et sous-ensemble de grands ensembles de données de tableau. Ce ne sont pas des choses que vous pouvez faire avec uniquement les packages intégrés qui viennent lorsque vous installez Python. Pour faire ces choses, nous avons dû charger des packages Python supplémentaires, en utilisant le mot-clé `import`.\n",
    "\n",
    "**Dans cette leçon, nous présenterons une façon d'installer et de gérer le logiciel Python open source.**\n",
    "\n",
    "&#x1F449; Vous connaissez peut-être déjà l'utilisation de `pip` parce que nous vous avons demandé d'utiliser `pip` pour installer les packages Python nécessaires pour ces leçons. Si c'est le cas, [n'hésitez pas à passer à la leçon suivante.](Https://github.com/openlimatescience/M2-Compuation-Climate-science/Blob/main/NoteBooks/02_Working_With_Gridded_Climate_Data.Ipynb)"
   ]
  },
  {
   "cell_type": "markdown",
   "id": "b5157801-4eee-4818-a0ad-570ade41b8d3",
   "metadata": {},
   "source": [
    "## Gérer les packages Python avec `pip`\n",
    "\n",
    "`pip` est l'outil standard pour installer et gérer les packages Python. [Vous pouvez en savoir plus ici.](Https://pip.pypa.io/en/stable/)\n",
    "\n",
    "**Pour commencer avec `pip`, ouvrirons une nouvelle fenêtre de terminal dans Jupyter Notebook:**\n",
    "\n",
    "![](assets/M2_Jupyter_terminal.png)"
   ]
  },
  {
   "cell_type": "markdown",
   "id": "62527330-37d5-44cb-8bef-00c9b057e41f",
   "metadata": {},
   "source": [
    "**Le Terminal est l'endroit où nous voulons être pour utiliser des outils comme `pip`.** Le logiciel `pip` est écrit en Python, mais nous n'utilisons pas de code Python pour interagir avec `pip`. Au lieu de cela, nous émettant des commandes à `pip` sur la *ligne de commande* ou terminal.\n",
    "\n",
    "Lorsque vous ouvrez le terminal, vous pouvez voir quelque chose comme ceci:\n",
    "\n",
    "```sh\n",
    "arthur@Computer:/home/arthur$\n",
    "```\n",
    "\n",
    "Votre terminal vous montrera quelque chose d'un peu différent, mais les éléments de base sont les mêmes. Dans cet exemple:\n",
    "\n",
    "- `arthur` est mon nom d'utilisateur.\n",
    "- `Computer` (l'ordinateur) est le nom de l'ordinateur sur lequel je suis connecté.\n",
    "- `/home/arthur` est un dossier sur l'ordinateur, quelque part dans mon système de fichiers. Il est montré ici parce que c'est le dossier que je regarde actuellement dans le terminal.\n",
    "- Le `$` est appelé *prompt.* Il vous indique que vous pouvez commencer à taper des commandes dans le terminal.\n",
    "\n",
    "Il y aura toujours un nom de dossier indiqué au terminal. Quoi qu'il en soit, il est connu comme le **répertoire de travail actuel.** savoir quoi que ce soit sur les répertoires de travail ou comment utiliser le terminal.\n",
    "\n",
    "\n",
    "### Installation d'un package avec `pip`\n",
    "\n",
    "Aujourd'hui, nous ne demanderons que `pip` de faire une chose: installer des packages Python. La plupart des packages dont nous avons besoin pour ce module sont déjà installés. Ne t'inquiète pas; Si vous essayez d'installer un package déjà installé, `pip` ne gâchera rien.\n",
    "\n",
    "Un package que nous voulons utiliser qui n'est probablement pas déjà installé sur votre système est `dask`. Utilisons ce package comme un exemple de la façon d'installer des packages Python.\n",
    "\n",
    "Nous pouvons émettre des commandes à `pip` immédiatement après l'ouverture du terminal. Essayons:\n",
    "\n",
    "```sh\n",
    "pip install dask\n",
    "```\n",
    "\n",
    "C'est aussi facile! Si `dask` n'est pas installé, `pip` l'installera. S'il est déjà installé, vous devriez voir un message comme:\n",
    "\n",
    "```sh\n",
    "Exigence déjà satisfaite: dask dans /usr/local/python-env/sciencecore/lib/python3.10/site-packages (2023.12.1)\n",
    "```"
   ]
  },
  {
   "cell_type": "markdown",
   "id": "97e2f97f-1612-40bd-b443-c4278bf478e1",
   "metadata": {},
   "source": [
    "---\n",
    "\n",
    "### Plus de ressources\n",
    "\n",
    "- [En savoir plus sur le gestionnaire de packages `pip`.](Https://pip.pypa.io/en/stable/)"
   ]
  }
 ],
 "metadata": {
  "kernelspec": {
   "display_name": "Python 3 (ipykernel)",
   "language": "python",
   "name": "python3"
  },
  "language_info": {
   "codemirror_mode": {
    "name": "ipython",
    "version": 3
   },
   "file_extension": ".py",
   "mimetype": "text/x-python",
   "name": "python",
   "nbconvert_exporter": "python",
   "pygments_lexer": "ipython3",
   "version": "3.10.12"
  }
 },
 "nbformat": 4,
 "nbformat_minor": 5
}
