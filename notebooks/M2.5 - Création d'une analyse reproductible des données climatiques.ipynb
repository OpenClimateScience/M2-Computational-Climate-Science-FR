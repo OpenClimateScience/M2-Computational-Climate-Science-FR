{
 "cells": [
  {
   "cell_type": "markdown",
   "id": "f2c3b96d-dddd-4a15-9e15-410bb50821ad",
   "metadata": {},
   "source": [
    "## M2.5 - Création d'une analyse reproductible des données climatiques\n",
    "\n",
    "*Partie de:* [**Computational Climate Science**](https://github.com/OpenClimateScience/M2-Compuational-Climate-Science-FR)\n",
    "\n",
    "**Contenu:**\n",
    "\n",
    "- [Création d'un flux de travail reproductible](#Création-a-REProductible-Workflow)\n",
    "  - [Notre flux de travail: Téléchargement des données (étape 1)](#Our-Workflow:-Downing-Téléchargement-the-data- (étape-1))\n",
    "  - [Notre flux de travail: traitement des données (étape 2)](#our-workflow:-data-processing- (étape-2))\n",
    "- [Fichiers d'un projet reproductible](#a-reProductible-project's-files)\n",
    "- [Comparaison de plusieurs années de données climatiques](#Comparaisondesannées-années-années-climat)\n",
    "  - [Calcul de TOA Radiation](#Computing-ToA-Radiation)\n",
    "  - [Calcul de  PET](#Computing-Pet)\n",
    "  - [Rééchantillonnage des données des gazouillages](#Rééchantillonnage-the-chirps-data)\n",
    "  - [Sélection de la partie d'une série temporelle xarray](#Sélection-de-la-série-séries-à-l'heure-de-la-pièce))"
   ]
  },
  {
   "cell_type": "markdown",
   "id": "b622b544-43ed-46ff-a557-d6977e9ddf99",
   "metadata": {},
   "source": [
    "---\n",
    "\n",
    "## Création d'un flux de travail reproductible\n",
    "\n",
    "Dans la leçon précédente, nous avons utilisé `dask` et `xarray` pour lire une collection de fichiers NetCDF, puis **mappé** A **Fonction vectorisée** sur chaque tableau dans une série temporelle. Nous avons produit un graphique qui a montré le rapport précipitation / PET pour Tireret, Algérie, dans les premiers mois de 2024, lors d'une sécheresse sévère.\n",
    "\n",
    "En soi, le graphique ne nous dit pas à quel point la sécheresse à Tireret est grave. Bien que les précipitations dans la région aient reconstitué moins de 5% de son eau perdue au cours des derniers mois, cela pourrait simplement faire partie du cycle saisonnier normal. En fait, nous savons que janvier à avril est une période relativement humide pour Tireret, mais la question demeure: **Pouvons-nous comparer cette année aux dernières années?**\n",
    "\n",
    "Chaque fois que nous voulons appliquer une analyse terminée à un nouvel ensemble de données, au fil du temps ou de l'espace, c'est une opportunité pour nous d'améliorer la façon dont notre flux de travail est représenté. Considérez les deux scripts ci-dessous, qui représentent les deux premières étapes de notre flux de travail."
   ]
  },
  {
   "cell_type": "markdown",
   "id": "4868d875-53c9-4f74-aa7f-2a4503a36611",
   "metadata": {},
   "source": [
    "### Notre flux de travail: téléchargement des données (étape 1)\n",
    "\n",
    "Le premier fichier peut être nommé quelque chose comme **`YYYYMMDD_step1_download_MERRA2_data.py`**. N'oubliez pas que `YYYYMMDD` est la date d'aujourd'hui, et cela nous aidera à **lier nos fichiers de sortie avec le code qui les a créés.**\n",
    "\n",
    "Notez que les fichiers Python, avec l'extension de fichier `*.py`, peuvent avoir **un docstring de niveau de fichier**, qui, dans l'exemple ci-dessous, est la chaîne multi-ligne Python commençant par `'''`. Les docstrings au niveau du fichier doivent commencer sur la première ligne d'un fichier. Ils sont extrêmement importants pour les flux de travail reproductibles; La première ligne d'un fichier est le premier endroit où vous chercherez à comprendre quel est le but du fichier!\n",
    "\n",
    "```\n",
    "'''\n",
    "Télécharge les données MERRA-2 M2SDNXSLV, pour les 5 premiers mois d'une année.\n",
    "En savoir plus sur Merra-2 ici:\n",
    "\n",
    "    https://gmao.gsfc.nasa.gov/reanalysis/merra-2/\n",
    "\n",
    "Les données sont téléchargées dans ce dossier:\n",
    "\n",
    "    data_raw / Merra2\n",
    "'''\n",
    "\n",
    "import earthaccess\n",
    "\n",
    "DATA_YEAR = 2023\n",
    "\n",
    "auth = earthaccess.login()\n",
    "\n",
    "results = earthaccess.search_data(\n",
    "    short_name = 'M2SDNXSLV',\n",
    "    temporal = (f\"{DATA_YEAR}-01-01\", f\"{DATA_YEAR}-05-31\"))\n",
    "\n",
    "# Could take about 1 minute on a broadband connection\n",
    "earthaccess.download(results, 'data_raw/MERRA2')"
   ]
  },
  {
   "cell_type": "markdown",
   "id": "62da61aa-360c-4fb1-b6e9-c23eba6b0ac2",
   "metadata": {},
   "source": [
    "&#x1F449; **De haut en bas, notez que:**\n",
    "\n",
    "- Nous avons un **Docstring de niveau de fichier** en haut du script avec des informations importantes sur le but du script, où obtenir plus d'informations et comment le script modifie notre système de fichiers.\n",
    "- Toutes nos instructions `import` sont près du haut du script. Cela signale à quelqu'un qui lise notre script quels modules Python sont nécessaires pour exécuter le script. Nous ne voulons pas mettre des instructions `import` plus loin dans le script car il serait plus difficile de les trouver. Cela pourrait conduire à une surprise `ImportError` lors de l'exécution du script.\n",
    "- Les paramètres qui pourraient être modifiés lors de l'exécution du script sont clairement identifiés, en utilisant toutes les lettres majuscules pour définir la variable, près du haut du script. Par exemple, `data_year` est une variable que nous pourrions vouloir modifier lors de l'exécution du script plusieurs fois. Le mettre en haut de notre script, en utilisant toutes les lettres majuscules, aide à éviter la difficulté de lire chaque ligne du script pour trouver la pièce qui doit changer."
   ]
  },
  {
   "cell_type": "markdown",
   "id": "87daf01b-22ed-4381-a00a-7d7520861ef3",
   "metadata": {},
   "source": [
    "### Notre flux de travail: traitement des données (étape 2)\n",
    "\n",
    "L'étape suivante consiste à lire les fichiers de données et à calculer le rayonnement haut de gamme (TOA). Le deuxième fichier peut être nommé **`YYYYMMDD_step2_compute_TOA_radiation.py`**.\n",
    "\n",
    "```\n",
    "'''\n",
    "Calcule le rayonnement haut de l'atmosphère (TOA) d'une série de Merra-2 \n",
    "Les fichiers M2SDNXSLV, ensuite écrit un fichier NetCDF de sortie. Le rayonnement TOA est\n",
    "calculé selon la formule FAO pour le rayonnement extraterrestre:\n",
    "\n",
    " https://www.fao.org/4/X0490E/x0490e07.htm#radiation\n",
    "'''\n",
    "\n",
    "import numpy as np\n",
    "import xarray as xr\n",
    "\n",
    "# NOTE: This will be different on your computer system and you should\n",
    "#   use an absolute path, not a relative path\n",
    "MERRA2_DATA_DIR = './data_raw/MERRA2'\n",
    "DATA_YEAR = 2023\n",
    "OUTPUT_FILE = f'./outputs/YYYYMMDD_MERRA2_{DATA_YEAR}_with_TOA-radiation.nc'\n",
    "\n",
    "def main():\n",
    "    ds = xr.open_mfdataset(f'{MERRA2_DATA_DIR}/*{DATA_YEAR}*.nc4', chunks = 'auto')\n",
    "    lats = ds['lat'].values.reshape((361, 1, 1))\\\n",
    "        .repeat(ds.lon.size, axis = 1)\\\n",
    "        .repeat(ds.time.size, axis = 2)\n",
    "    ds['lat_grid'] = (('lat', 'lon', 'time'), lats)\n",
    "\n",
    "    # Compute TOA radiation\n",
    "    template = ds['T2MMEAN']\n",
    "    template.name = 'toa_radiation'\n",
    "    result = xr.map_blocks(toa_radiation_wrapper, ds, template = template)\n",
    "    toa_result = result.compute()\n",
    "    # Converting TOA Radiation from [MJ m-2 day-1] to [mm H2O day-1]\n",
    "    ds['toa_radiation'] = toa_result * 0.408\n",
    "    \n",
    "    # Write the file to disk, just the important variables\n",
    "    ds = ds[['T2MMAX', 'T2MMEAN', 'T2MMIN', 'toa_radiation']]\n",
    "    comp = dict(zlib = True, complevel = 5)\n",
    "    encoding = {var: comp for var in ds.data_vars}\n",
    "    ds.to_netcdf(OUTPUT_FILE, format = 'NETCDF4', encoding = encoding)\n",
    "\n",
    "    \n",
    "def toa_radiation(latitude, doy):\n",
    "    '''\n",
    "    Top-of-atmosphere (TOA) radiation for a given latitude (L) and day of year\n",
    "    (DOY) can be calculated as:\n",
    "\n",
    "    R = ((24 * 60) / pi) * G * d * (w * sin(L) * sin(D) + cos(L) * cos(D) * sin(w))\n",
    "\n",
    "    Where G is the solar constant, 0.0820 [MJ m-2 day-1]; d is the earth-sun\n",
    "    distance; w is the sunset hour angle; and D is the solar declination angle.\n",
    "    \n",
    "    For more information, consult the FAO documentation:\n",
    "\n",
    "        https://www.fao.org/4/X0490E/x0490e07.htm#radiation\n",
    "    \n",
    "    Parameters\n",
    "    ----------\n",
    "    latitude : float\n",
    "        The latitude on earth, in degrees\n",
    "    doy : int\n",
    "        The day of the year (DOY), an integer on [1,366]\n",
    "    \n",
    "    Returns\n",
    "    -------\n",
    "    Number\n",
    "        Top-of-atmosphere (TOA) radiation, in [MJ m-2 day-1]\n",
    "    '''\n",
    "    solar_constant = 0.0820 # [MJ m-2 day-1]\n",
    "    pi = 3.14159\n",
    "    \n",
    "    # Convert latitude from degrees to radians\n",
    "    lat_radians = np.deg2rad(latitude)\n",
    "    # Earth-Sun distance, as a function of day-of-year (DOY)\n",
    "    earth_sun_dist = 1 + 0.0033 * np.cos(doy * ((2 * pi) / 365))\n",
    "    # Solar declination, as a function of DOY\n",
    "    declination = 0.409 * np.sin(doy * ((2 * pi) / 365) - 1.39)\n",
    "    \n",
    "    # Sunset hour angle; we use np.where() below to guard against\n",
    "    #   warnings where arccos() would return invalid values, which\n",
    "    #   happens when the argument is outside [-1, 1]\n",
    "    _hour_angle = -np.tan(lat_radians) * np.tan(declination)\n",
    "    _hour_angle = np.where(np.abs(_hour_angle) > 1, np.nan, _hour_angle)\n",
    "    sunset_hour_angle = np.arccos(_hour_angle)\n",
    "    \n",
    "    return ((24 * 60) / pi) * solar_constant * earth_sun_dist *\\\n",
    "        (sunset_hour_angle * np.sin(lat_radians) * np.sin(declination) +\n",
    "            np.cos(lat_radians) * np.cos(declination) * np.sin(sunset_hour_angle))\n",
    "\n",
    "\n",
    "def toa_radiation_wrapper(dataset):\n",
    "    '''\n",
    "    Wraps toa_radiation to work with an xarray.Dataset\n",
    "\n",
    "    Parameters\n",
    "    ----------\n",
    "    dataset : xarray.Dataset\n",
    "        Input dataset with \"lat_grid\" and \"time\" variables\n",
    "\n",
    "    Returns\n",
    "    -------\n",
    "    xarray.DataArray\n",
    "    '''\n",
    "    return toa_radiation(dataset['lat_grid'], dataset['time.dayofyear'])\n",
    "\n",
    "\n",
    "# If the file is run as a script, run the main() function\n",
    "if __name__ == '__main__':\n",
    "    main()\n",
    "```"
   ]
  },
  {
   "cell_type": "markdown",
   "id": "3608d91d-6b79-4b84-bab1-8e3006ac516c",
   "metadata": {},
   "source": [
    "&#x1F449; **Encore une fois, notez que:**\n",
    "\n",
    "- Les instructions de docstring **au niveau du fichier** et `import` près du haut du script aident les utilisateurs à identifier l'objectif du script et quels modules Python sont nécessaires pour l'exécuter.\n",
    "- Notre fonction `toa_radiation()` a également un docstring au niveau de la fonction ** qui décrit comment fonctionne la fonction: ce que **arguments d'entrée** il nécessite et quelle est **la valeur de retour**.\n",
    "\n",
    "&#x1F449; **Considérez la ligne qui contient `if __name__ == '__main __'` ; Qu'est-ce que cela signifie?**\n",
    "\n",
    "- Chaque fichier Python, ou fichier `*.py`, a un code qui peut être exécuté de deux manières, soit en exécutant `python myscript.py` (en tant que script) ou en *importe* le fichier en tant que module, par exemple, `import myscript`.\n",
    "- Chaque fichier Python, lorsque le code qu'il contient est exécuté, introduit une variable appelée `__name__` qui indique le nom du module. Lorsqu'un fichier Python est exécuté en tant que script, alors `__name__` est défini égal à `'__main __'`. Par conséquent, `__name__` est une variable que nous pouvons utiliser pour tester si le code Python est actuellement exécuté en tant que script ou s'il a été importé en tant que module.\n",
    "\n",
    "**Pourquoi nous soucions-nous de savoir si le fichier est exécuté en tant que script ou s'il a été importé comme un module?** Lorsqu'un fichier Python est importé en tant que module, tout le code de ce fichier est exécuté. Cela signifie que tout code python qui est en dehors d'une ** définition de fonction ** sera exécuté à chaque fois que nous importons le module, ce qui n'est probablement pas ce que nous voulons, surtout si le fichier contient des fonctions utiles comme `toa_radiation()` que nous Pourrait vouloir **réutiliser** ailleurs; Autrement dit, nous pourrions vouloir écrire quelque chose comme `from myscript import toa_radiation()` dans un autre script.\n",
    "\n",
    "Le code que nous voulons exécuter * uniquement lorsque le fichier est exécuté en tant que script * doit être placé dans une fonction comme `main () ', qui peut être appelé conditionnellement:\n",
    "\n",
    "```\n",
    "# Si le fichier est exécuté en tant que script, exécutez la fonction main()\n",
    "if __name__ == '__main__':\n",
    "    main()\n",
    "```\n",
    "\n",
    "Si cela est déroutant, pour l'instant, considérez simplement l'instruction `if` ci-dessus comme une technique Python \"magique\" qui nous permet d'écrire des fichiers de code Python qui peuvent à la fois être exécutés sous forme de scripts et importés sous forme de modules."
   ]
  },
  {
   "cell_type": "markdown",
   "id": "7bad43b7-8e67-4dc0-a16e-f802d53f37cd",
   "metadata": {},
   "source": [
    "---\n",
    "\n",
    "## Les fichiers d'un projet reproductible\n",
    "\n",
    "Il y a d'autres étapes dans notre analyse, mais nous vous laissons le peu comme un exercice pour écrire des scripts réutilisables et bien documentés comme celui ci-dessus. Votre répertoire de projet final peut ressembler à ceci:\n",
    "\n",
    "![](./assets/M2_file_tree_workflow.png)\n",
    "\n",
    "&#x1F449; **Notez que chacun des fichiers `scripts` comprend les mots `step1`, `step2` ou `step3`, indiquant l'ordre dans lequel le workflow doit être exécuté**. Cela pourrait même vous aider si vous revenez à ce projet des mois plus tard et que vous ne vous souvenez pas de ce que vous avez fait auparavant!"
   ]
  },
  {
   "cell_type": "markdown",
   "id": "445d29b9-fcb3-4f5d-ad37-b9643907fe38",
   "metadata": {},
   "source": [
    "---\n",
    "## Comparaison de plusieurs années de données climatiques\n",
    "\n",
    "En fin de compte, nous voulons répondre à notre question de la dernière leçon: comment le rapport précipitation / périphérique pour l'hiver 2024 se compare-t-il à celui de l'hiver 2023 à Tireret?\n",
    "\n",
    "Notre flux de travail reproductible, ci-dessus, pourrait être utilisé pour répondre à cette question. Voyons également comment répondre à la question dans **une session Python interactive,** c'est-à-dire ce cahier de jupyter. Si nous avons déjà téléchargé les données MERRA-2 pour 2023 et 2024, nous sommes prêts à charger les données à l'aide de `xarray.open_mfdataset()`."
   ]
  },
  {
   "cell_type": "code",
   "execution_count": null,
   "id": "b831ae67-250d-4515-bae0-517e66f96346",
   "metadata": {},
   "outputs": [],
   "source": [
    "import xarray as xr\n",
    "from matplotlib import pyplot\n",
    "\n",
    "ds_chirps = xr.open_mfdataset('data_raw/CHIRPS/CHIRPS-v2_Africa_monthly_2014-2024.nc')\n",
    "ds_merra2 = xr.open_mfdataset('data_raw/MERRA2/*.nc4', chunks = 'auto')"
   ]
  },
  {
   "cell_type": "markdown",
   "id": "2ab43daa-d273-4b3c-bc21-089733b7e3ed",
   "metadata": {},
   "source": [
    "Notre script Python, `YYYYMMDD_step2_compute_TOA_radiation.py`, contient une fonction utile et réutilisable,` toa_radiation()`. **Comment pouvons-nous utiliser cette fonction sans copier et coller la déclaration de fonction dans un autre script, ou dans ce cahier?** En général, nous devons éviter d'avoir plus d'une copie de n'importe quelle fonction. L'une des principales raisons d'écrire une fonction est de ne pas avoir à écrire le même code deux fois!\n",
    "\n",
    "&#x1F449; Comme suggéré ci-dessus, lorsque nous avons inclus l'instruction `if __name__ == '__main __':` dans notre script, détecter le nom du module avec `__name__` est un moyen utile de déterminer si le code Python est exécuté en tant que script ou en tant que module. Tant que nous pouvons voir le script nommé `yyymmmdd_step2_compute_TOA_radiation.py` quelque part dans notre arborescence de fichiers, nous devrions pouvoir l'importer comme module. Ci-dessous, nous utilisons la bibliothèque `OS` pour examiner les fichiers du répertoire actuel. Nous pouvons voir qu'il y a un répertoire «scripts» en dessous de celui-ci ..."
   ]
  },
  {
   "cell_type": "code",
   "execution_count": null,
   "id": "a73988fe-634b-478c-866a-e901f1de9e18",
   "metadata": {},
   "outputs": [],
   "source": [
    "import os\n",
    "\n",
    "# Display the files in the current directory\n",
    "files = os.listdir('.') # The single dot \".\" indicates the current directory\n",
    "files.sort()\n",
    "files"
   ]
  },
  {
   "cell_type": "markdown",
   "id": "fe4e9fcc-bb06-41a8-b9bb-5c2405a667ed",
   "metadata": {},
   "source": [
    "Et à l'intérieur de `scripts` se trouve le script Python que nous voulons importer en tant que module!"
   ]
  },
  {
   "cell_type": "code",
   "execution_count": null,
   "id": "fb9ca52a-08e8-4365-b976-38138603c7b0",
   "metadata": {},
   "outputs": [],
   "source": [
    "os.listdir('scripts')"
   ]
  },
  {
   "cell_type": "markdown",
   "id": "96d2d5d2-8124-47ef-975a-11c00551a3a5",
   "metadata": {},
   "source": [
    "Comment faisons-nous cela? Étant donné que les répertoires et les fichiers Python `*.py` peuvent être traités comme si ce sont des modules, tout ce que nous devons faire est d'écrire une instruction `IMPORT` du module comme celle ci-dessous."
   ]
  },
  {
   "cell_type": "code",
   "execution_count": null,
   "id": "ea12d650-b5ef-430c-955f-b6d674e6d3c1",
   "metadata": {},
   "outputs": [],
   "source": [
    "from scripts.YYYYMMDD_step2_compute_TOA_radiation import toa_radiation_wrapper"
   ]
  },
  {
   "cell_type": "markdown",
   "id": "2d8fcaf7-75eb-41da-8da9-03dfa055b1b4",
   "metadata": {},
   "source": [
    "Notez que nous venons d'importer un nom de variable de ce script, `toa_radiation_wrapper ()` fonction, ce qui nous donne accès à la fonction `toa_radiation()`. Et parce que nous avons écrit **un docstring au niveau de la fonction** aussi utile plus tôt, nous pouvons voir toutes les informations sur la façon d'utiliser cette fonction en appelant `help()` sur notre fonction."
   ]
  },
  {
   "cell_type": "code",
   "execution_count": null,
   "id": "f76e4c76-678e-48e1-aa5e-aa8042126cd3",
   "metadata": {},
   "outputs": [],
   "source": [
    "help(toa_radiation_wrapper)"
   ]
  },
  {
   "cell_type": "markdown",
   "id": "8514fa35-f307-4f6f-8e5d-b2d22d74f01e",
   "metadata": {},
   "source": [
    "### Calculer le rayonnement solaire au sommet de l'atmosphère (TOA)"
   ]
  },
  {
   "cell_type": "markdown",
   "id": "70922ebd-18ee-4315-8694-6a0a58a5b35b",
   "metadata": {},
   "source": [
    "Comme précédemment, afin de calculer le rayonnement TOA, nous voulons créer une grille de latitude afin que nous puissions **vectoriser** notre étape `toa_radiation()`."
   ]
  },
  {
   "cell_type": "code",
   "execution_count": null,
   "id": "3254a812-00b5-4c0c-9be0-a280d90b9267",
   "metadata": {},
   "outputs": [],
   "source": [
    "lat_grid = ds_merra2.lat.values.reshape(1, 361, 1)\\\n",
    "    .repeat(ds_merra2.lon.size, axis = 2)\\\n",
    "    .repeat(ds_merra2.time.size, axis = 0)\n",
    "lat_grid.shape"
   ]
  },
  {
   "cell_type": "code",
   "execution_count": null,
   "id": "ffa96255-5173-43a2-acd2-1e44c308f49f",
   "metadata": {},
   "outputs": [],
   "source": [
    "ds_merra2['lat_grid'] = (('time', 'lat', 'lon'), lat_grid)\n",
    "ds_merra2"
   ]
  },
  {
   "cell_type": "markdown",
   "id": "ed29e8f2-b329-418b-a74a-2b239dcd54ba",
   "metadata": {},
   "source": [
    "Et nous avons besoin du jour de l'année, mais cela est déjà disponible en tant que `ds_merra2['time.dayofyear']`.\n",
    "\n",
    "Par conséquent, nous sommes prêts à calculer le rayonnement TOA!"
   ]
  },
  {
   "cell_type": "code",
   "execution_count": null,
   "id": "411c0a6d-54ce-47db-ab8c-50ff3ae8c2b6",
   "metadata": {},
   "outputs": [],
   "source": [
    "# Converting TOA Radiation from [MJ m-2 day-1] to [mm H2O day-1]\n",
    "toa_rad = toa_radiation_wrapper(ds_merra2) * 0.408\n",
    "toa_rad.sel(time = '2024-05-01').plot()"
   ]
  },
  {
   "cell_type": "markdown",
   "id": "b2d2964e-f9b5-4fd0-b09f-d104343570ae",
   "metadata": {},
   "source": [
    "### Calcul PET"
   ]
  },
  {
   "cell_type": "markdown",
   "id": "385ec72d-7217-4385-ab5a-326c3f48aa61",
   "metadata": {},
   "source": [
    "Et nous irons également et sous-ensemble les données MERRA-2 à Tiaret également."
   ]
  },
  {
   "cell_type": "code",
   "execution_count": null,
   "id": "b57e37d0-c186-4bff-b959-b6c2a219905b",
   "metadata": {},
   "outputs": [],
   "source": [
    "toa_rad.shape"
   ]
  },
  {
   "cell_type": "code",
   "execution_count": null,
   "id": "7f86cb71-73d0-45d0-8612-a4f1e759c542",
   "metadata": {},
   "outputs": [],
   "source": [
    "import numpy as np\n",
    "\n",
    "ds_merra2['toa_radiation'] = toa_rad\n",
    "\n",
    "# Select just the Tiaret region\n",
    "merra2_tiaret = ds_merra2.sel(lon = -1.32, lat = 35.37, method = 'nearest')\n",
    "\n",
    "# Compute PET using the Hargreaves equation\n",
    "merra2_tiaret_pet = 0.0023 * merra2_tiaret['toa_radiation'] * np.sqrt(\n",
    "    merra2_tiaret['T2MMAX'] - merra2_tiaret['T2MMIN']) * (merra2_tiaret['T2MMEAN'] + 17.8)"
   ]
  },
  {
   "cell_type": "markdown",
   "id": "5bb7dd34-fb9d-41bf-8838-344c91c8a28e",
   "metadata": {},
   "source": [
    "### Rééchantillonner les données de CHIRPS"
   ]
  },
  {
   "cell_type": "markdown",
   "id": "c0ca9532-1f66-46e5-abb1-6d273ecb8bbd",
   "metadata": {},
   "source": [
    "Enfin, nous devons transformer les données mensuelles de précipitations CHIRPS en précipitations journalières, pour la région de Tiaret, comme nous l’avons fait dans la leçon précédente."
   ]
  },
  {
   "cell_type": "code",
   "execution_count": null,
   "id": "f5935db7-6e21-45bf-814c-668c1feb53a8",
   "metadata": {},
   "outputs": [],
   "source": [
    "chirps_tiaret = ds_chirps['precip'].sel(x = slice(0.8, 1.8), y = slice(36.1, 35.1))\n",
    "chirps_tiaret_daily = chirps_tiaret.resample(time = 'D').nearest().mean(['x', 'y']) / 30\n",
    "chirps_tiaret_daily"
   ]
  },
  {
   "cell_type": "markdown",
   "id": "f816660e-5263-40cb-a8c5-38ba26cecdf5",
   "metadata": {},
   "source": [
    "### Sélection d'une partie d'une série chronologique de `xarray` \n",
    "\n",
    "Nous sommes maintenant prêts à comparer 2023 et 2024.\n",
    "\n",
    "En supposant que notre répertoire `data_raw/MERRA2` contient les données que nous avons téléchargées à partir de 2023 et 2024, alors notre ensemble de données `ds_merra2` contient des données à partir de 2023 et 2024. `sel(YYYY-MM-DD)` modèle, mais comment pouvons-nous sélectionner toutes les données d'une année, d'un mois ou d'une gamme de dates spécifiques?\n",
    "\n",
    "Chaque dimension `xarray` qui a le type `datatime64[ns]` également un `DatetimeAccessor`, accessible via la propriété `dt` ."
   ]
  },
  {
   "cell_type": "code",
   "execution_count": null,
   "id": "01dd644c-4782-44ff-89fa-dd5253fbd280",
   "metadata": {},
   "outputs": [],
   "source": [
    "merra2_tiaret_pet.time.dt"
   ]
  },
  {
   "cell_type": "markdown",
   "id": "4b3d62ef-33dc-4eb0-be83-7da93d15ee40",
   "metadata": {},
   "source": [
    "[La propriété `dt` peut être utilisée pour sous-ensemble une série temporelle.](Https://docs.xarray.dev/en/stable/generated/xarray.core.accessor_dt.datetimeaccessor.html)"
   ]
  },
  {
   "cell_type": "code",
   "execution_count": null,
   "id": "533396e7-b25f-4ccd-a966-4315a4da8acd",
   "metadata": {},
   "outputs": [],
   "source": [
    "merra2_tiaret_pet.time.dt.year"
   ]
  },
  {
   "cell_type": "markdown",
   "id": "1e5d3b33-5988-4a3a-a8f2-44963d023c86",
   "metadata": {},
   "source": [
    "Par exemple, pour sélectionner uniquement les données de 2023 ..."
   ]
  },
  {
   "cell_type": "code",
   "execution_count": null,
   "id": "605d4d8c-ed26-4e70-9d72-3c7e5f3f0399",
   "metadata": {},
   "outputs": [],
   "source": [
    "# Select only those data points along the time access where time.year is in a list of years\n",
    "merra2_tiaret_pet.sel(time = merra2_tiaret_pet.time.dt.year.isin([2023]))"
   ]
  },
  {
   "cell_type": "code",
   "execution_count": null,
   "id": "e8a23b59-4333-4b34-adf9-5cb4f0cea363",
   "metadata": {},
   "outputs": [],
   "source": [
    "ratios = []\n",
    "precip = []\n",
    "for year in [2023, 2024]:\n",
    "    pet_this_year = merra2_tiaret_pet.sel(time = merra2_tiaret_pet.time.dt.year.isin([year]))\n",
    "    precip_this_year = chirps_tiaret_daily.sel(time = chirps_tiaret_daily.time.dt.year.isin([year]))\n",
    "    # Select the first 122 days\n",
    "    pet_this_year = pet_this_year.isel(time = slice(0, 122))\n",
    "    precip_this_year = precip_this_year.isel(time = slice(0, 122))\n",
    "    # NOTE: We must use the .values attribute because these are from two different datasets\n",
    "    ratios.append(100 * precip_this_year.values / pet_this_year.values)\n",
    "    precip.append(precip_this_year.values)"
   ]
  },
  {
   "cell_type": "code",
   "execution_count": null,
   "id": "a8406251-725e-4364-9a98-a752b6f4d537",
   "metadata": {},
   "outputs": [],
   "source": [
    "pyplot.figure(figsize = (12, 5))\n",
    "for y, year in enumerate([2023, 2024]):\n",
    "    pyplot.plot(pet_this_year.time, ratios[y], label = year)\n",
    "    \n",
    "pyplot.ylabel('Precipitation-to-PET Ratio (mm day-1)')\n",
    "pyplot.legend()"
   ]
  },
  {
   "cell_type": "markdown",
   "id": "28764d1b-0315-4849-9de2-215effe46334",
   "metadata": {},
   "source": [
    "**L'intrigue ci-dessus suggère que les conditions hydrologiques au début de 2024 ne sont pas si différentes de l'année précédente.** Pourquoi ces conditions de saisie sèches ont-elles produit **une sécheresse socioéconomique** en 2024 mais pas en 2023? Comme nous l'avons vu lorsque nous avons tracé les ratios de précipitation à long terme, en utilisant des données sur la terre cuite, les précipitations de la saison humide sont inférieures à celles de plusieurs années. Une explication de la sécheresse socioéconomique de 2024 pourrait être que l'effet *cumulatif* de plusieurs années de faibles précipitations a créé des conditions de sécheresse en 2024 qui n'étaient pas aussi apparentes en 2023.\n",
    "\n",
    "Nous pouvons visualiser à nouveau la baisse à long terme des précipitations hivernales à l'aide des données de gazouillis. Malgré une augmentation relative des précipitations en 2022, il est évident que les précipitations hivernales sont inhabituellement faibles depuis 2019."
   ]
  },
  {
   "cell_type": "code",
   "execution_count": null,
   "id": "911a9e07-2e4f-450c-ac30-49a9d431fe55",
   "metadata": {},
   "outputs": [],
   "source": [
    "chirps_tiaret.sel(time = chirps_tiaret.time.dt.month.isin([1,2,3,4,5])).groupby('time.year').sum().mean(['x', 'y']).plot()\n",
    "pyplot.ylabel('January - May Precipitation (mm)')"
   ]
  },
  {
   "cell_type": "markdown",
   "id": "0904ee41-a9c3-4a5f-b4a4-ab54a9f9c523",
   "metadata": {},
   "source": [
    "\n",
    "---\n",
    "\n",
    "## Plus de ressources\n",
    "\n",
    "- [`xarray.core.accessor_dt.datetimeAccessor` (documentation)](https://docs.xarray.dev/en/stable/generated/xarray.core.accessor_dt.datetetimeaccessor.html)"
   ]
  }
 ],
 "metadata": {
  "kernelspec": {
   "display_name": "Python 3 (ipykernel)",
   "language": "python",
   "name": "python3"
  },
  "language_info": {
   "codemirror_mode": {
    "name": "ipython",
    "version": 3
   },
   "file_extension": ".py",
   "mimetype": "text/x-python",
   "name": "python",
   "nbconvert_exporter": "python",
   "pygments_lexer": "ipython3",
   "version": "3.10.12"
  }
 },
 "nbformat": 4,
 "nbformat_minor": 5
}
