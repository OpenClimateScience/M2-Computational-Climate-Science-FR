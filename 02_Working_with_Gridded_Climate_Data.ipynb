{
 "cells": [
  {
   "cell_type": "markdown",
   "id": "be74f339-99e2-4d63-8a2c-36af922a67e2",
   "metadata": {},
   "source": [
    "# M2.2 - Travailler avec des données climatiques grindtées\n",
    "\n",
    "* Participe: * [** Computational Climate Science **] (https://github.com/openClimatescience/M2-Compuational-climate-science) | ** Leçon précédente ** | ** Next Leçon **"
   ]
  },
  {
   "cell_type": "markdown",
   "id": "e91647cb-5949-42d9-b373-b51b9bfb436b",
   "metadata": {},
   "source": [
    "**Contenu:**\n",
    "\n",
    "- [contraintes conceptuelles et informatiques] (# Conceptual and Computational-Constaintes)\n",
    "- [une série temporelle de stockage d'eau terrestre (TWS)] (# A-Terrestrial-Water-Storage- (TWS) -Time-Series)\n",
    "  - [Accès aux variables `XArray`] (# Accès aux variables de xarray)\n",
    "- [Penser aux tableaux multidimensionnels] (# Thinking-Sur-Multi-Dimensional-Arrays)\n",
    "  - [Mise à jour des systèmes de coordonnées] (# Mise à jour-coordonnées-systèmes)\n",
    "- [Indexation d'un tableau multidimensionnel] (# indexation-a-multidimensional-array)\n",
    "- [Aggrégation le long de l'axe d'un tableau multidimensionnel] (# Aggregating-Aong-the-axis-of-A-Multi-Dimensional-Array)\n",
    "- [Rééchantillonnage d'une série temporelle] (# Rééchantillonnage d'une série-au moment)\n",
    "  - [Gestion des données manquantes] (# manutention-missing-data)\n",
    "- [Visualiser la variation dans l'espace] (# Visualisation-variation-over espace)\n",
    "- [Résumé] (# Résumé)"
   ]
  },
  {
   "cell_type": "markdown",
   "id": "2979c87b-18c6-4ca1-84ca-4a9bb63f2180",
   "metadata": {},
   "source": [
    "## contraintes conceptuelles et informatiques\n",
    "\n",
    "À mesure que la technologie informatique s'améliore et que davantage de jeux de données par satellite sont disponibles, la taille, la complexité et la fréquence des données climatiques augmentent rapidement. Cela peut entraîner deux problèmes pour les chercheurs et les gestionnaires de ressources qui cherchent à utiliser les données climatiques. Premièrement, il peut être difficile de conceptualiser la taille et l'échelle de certains ensembles de données climatiques, conduisant à des problèmes avec les données et la gestion de projet (Jain et al. 2022). Deuxièmement, il peut être difficile de traiter et d'analyser des ensembles de données climatiques qui sont parfois trop grands pour s'adapter à la mémoire de l'ordinateur ou trop complexes pour un calcul tractable.\n",
    "\n",
    "Dans cette leçon, nous explorerons comment gérer certains de ces problèmes. Parce que nous apprenons, nous utiliserons un ensemble de données qui n'est pas aussi grand ou complexe que d'autres que nous pourrions rencontrer, mais cela devrait servir de bonne illustration des ensembles de données plus difficiles et comment les gérer."
   ]
  },
  {
   "cell_type": "code",
   "execution_count": null,
   "id": "d94bc6ce-9274-4335-a724-55729604fdff",
   "metadata": {},
   "outputs": [],
   "source": [
    "import xarray as xr\n",
    "import earthaccess\n",
    "import numpy as np\n",
    "from matplotlib import pyplot\n",
    "\n",
    "auth = earthaccess.login()"
   ]
  },
  {
   "cell_type": "markdown",
   "id": "645f21a7-307a-4d56-9751-b943c72c09d6",
   "metadata": {},
   "source": [
    "## Une série temporelle de stockage d'eau terrestre (TWS)\n",
    "\n",
    "Pour acquérir plus d'expérience en travaillant avec les données climatiques grindtées, et en particulier une série chronologique de données climatiques grindées, nous utiliserons un ensemble de données de stockage d'eau terrestre (TWS) produit à l'aide de données à partir de deux missions par satellite: la mission de la récupération de la gravité et de l'expérience climatique (Grace) et son successeur, la mission de suivi Grace (Grace-Fo).\n",
    "\n",
    "TWS comprend toute l'eau sur et sous la surface terrestre, sous forme de manteau neigeux, de ruisseaux de surface et de réservoirs et d'eau souterraine. [L'ensemble de données TWS avec lequel nous travaillerons à partir des missions Grace et Grace-Fo] (https://podaac.jpl.nasa.gov/dataset/tellus_grac-grfo_mascon_cri_grid_rl06.1_v3) a déjà été convertie en * anomalies mensuelles. *\n",
    "\n",
    "& # x1F449; [En savoir plus sur les données Grace / Grace-Fo ici.] (Https://grace.jpl.nasa.gov/about/faq/)\n",
    "\n",
    "Rappelons que les * anomalies * sont un moyen de représenter la variabilité autour d'une moyenne à long terme. Ils nous disent quelque chose sur la façon dont un point de données particulier (un jour, un mois ou une année particulier) se compare au fil du temps; Par exemple, est-ce une année particulièrement sèche?"
   ]
  },
  {
   "cell_type": "markdown",
   "id": "5de943f1-a70a-4bcd-9bf8-89c8e6d4a5cb",
   "metadata": {},
   "source": [
    "#### & # x1f3af; Meilleure pratique\n",
    "\n",
    "* Nous sommes sur le point de télécharger des données brutes! Vous savez quoi faire. * Créez un nouveau dossier appelé «Grace» dans le dossier `data_raw»."
   ]
  },
  {
   "cell_type": "code",
   "execution_count": null,
   "id": "15d2d398-4c3d-42c7-af71-70faedacf3a2",
   "metadata": {},
   "outputs": [],
   "source": [
    "results = earthaccess.search_data(short_name = 'TELLUS_GRAC-GRFO_MASCON_CRI_GRID_RL06.1_V3')\n",
    "results"
   ]
  },
  {
   "cell_type": "markdown",
   "id": "6809b2ea-a68e-4d12-a255-a5dc62c47910",
   "metadata": {},
   "source": [
    "Cet ensemble de données a été préparé en tant que fichier NetCDF unique."
   ]
  },
  {
   "cell_type": "code",
   "execution_count": null,
   "id": "0cf4ea78-3d47-41dd-9604-7a256a834163",
   "metadata": {},
   "outputs": [],
   "source": [
    "earthaccess.download(results, 'data_raw/GRACE')"
   ]
  },
  {
   "cell_type": "markdown",
   "id": "7a292caf-e5e7-442b-bd87-e09537c8a019",
   "metadata": {},
   "source": [
    "** Vous pouvez obtenir un message d'erreur lorsque vous essayez de télécharger cet ensemble de données en raison d'un problème avec les serveurs de la NASA. ** Si c'est le cas, notez qu'il existe une seule URL pour cet ensemble de données (inclus dans la sortie ci-dessus), ce que vous pouvez Utilisez pour télécharger les données directement. Il devrait être:\n",
    "\n",
    "- [https://archive.podaac.earthdata.nasa.gov/podaac-ops-cumulus-protected/tellus_grac-grfo_mascon_cri_grid_rl06.1_v3/grctellus.jpl.200204_202311.glo.rl06.1m (https://archive.podaac.earthdata.nasa.gov/podaac-ops-cumulus-protected/tellus_grac-grfo_mascon_cri_grid_rl06.1_v3/grctellus.jpl.200204_202311.glo.rl06.1m (Cliquez pour télécharger)"
   ]
  },
  {
   "cell_type": "code",
   "execution_count": null,
   "id": "71bc11fe-c6ad-4a9b-928d-1b48697277ca",
   "metadata": {},
   "outputs": [],
   "source": [
    "ds = xr.open_dataset('data_raw/GRACE/GRCTellus.JPL.200204_202311.GLO.RL06.1M.MSCNv03CRI.nc')\n",
    "ds"
   ]
  },
  {
   "cell_type": "markdown",
   "id": "1a5f83a0-b3c7-4b28-b64f-6dbf40a6a1b7",
   "metadata": {},
   "source": [
    "Les données Grace / Grace-Fo représentent déjà * les anomalies *, c'est-à-dire un changement du stockage total de l'eau par rapport à une période de temps (ou \"époque\"). Quelle période est-ce? Nous pouvons le découvrir à partir des attributs de niveau ** de fichier ** de ce fichier NetCDF."
   ]
  },
  {
   "cell_type": "code",
   "execution_count": null,
   "id": "9e833d33-4e46-42ac-b70b-eec127bf3829",
   "metadata": {},
   "outputs": [],
   "source": [
    "ds.attrs['time_mean_removed']"
   ]
  },
  {
   "cell_type": "markdown",
   "id": "9d7add60-7081-477f-a265-ea797be7a09a",
   "metadata": {},
   "source": [
    "Nous pouvons également le vérifier en examinant une série chronologique de la moyenne mondiale dans les anomalies TWS mensuelles. Pour la période 2004-2009, ces anomalies semblent être centrées sur zéro, ce que nous nous attendons, car la moyenne de cette période a été soustraite des données.\n",
    "\n",
    "Nous voyons également une tendance à long terme à la baisse. Qu'est-ce qui pourrait expliquer cela? La perte mondiale de glace terrestre est probablement le principal facteur qui stimule cette perte. Le rapport d'évaluation le plus élevé (AR6) du panel intergouvernemental sur le changement climatique (GIEC) estime que la fonte des glaciaires et des glaces depuis 2006 et 2018 représente près de 2 centimètres d'élévation du niveau de la mer (GIEC 2021, chapitre 9), ce qui est cohérent avec ce que nous voyons ici (l'axe vertical de notre parcelle est également en centimètres). Le réchauffement de l'atmosphère terrestre joue également un rôle, car l'air plus chaud peut contenir plus de vapeur d'eau."
   ]
  },
  {
   "cell_type": "code",
   "execution_count": null,
   "id": "b7ffffc0-cc45-4cb2-920e-126d40b7e9e6",
   "metadata": {},
   "outputs": [],
   "source": [
    "ds['lwe_thickness'].mean(['lon','lat']).plot()"
   ]
  },
  {
   "cell_type": "markdown",
   "id": "264f7713-cb61-47be-a0af-e0c77817c3a0",
   "metadata": {},
   "source": [
    "L'anomalie de la série chronologique vers 2017-2018 est due au fait que la mission de Grace s'est terminée en octobre 2017 et que Grace-Fo n'a été lancée qu'en mai 2018; Par conséquent, il n'y a pas de valeurs de données pour ces mois.\n",
    "\n",
    "Nous pouvons regarder plus d'une série chronologique: il s'agit également d'un ensemble de données spatial. Jetons un coup d'œil aux anomalies mondiales TWS pour le premier rendez-vous."
   ]
  },
  {
   "cell_type": "code",
   "execution_count": null,
   "id": "a40e440e-bfdd-43b2-b0b8-a7c828ad5a0f",
   "metadata": {},
   "outputs": [],
   "source": [
    "ds['lwe_thickness'][0].plot(vmin = -200, vmax = 200, cmap = 'RdBu')"
   ]
  },
  {
   "cell_type": "markdown",
   "id": "d4bcacc9-91cc-492d-89e1-3f2e34369e57",
   "metadata": {},
   "source": [
    "Dans la parcelle ci-dessus, qui représente l'anomalie mensuelle TWS pour avril 2002, les couleurs fraîches montrent une anomalie TWS positive (c'est-à-dire plus d'eau que d'habitude pour avril) et des couleurs plus chaudes montrent une anomalie TWS négative (c'est-à-dire moins d'eau que d'habitude pour avril) ."
   ]
  },
  {
   "cell_type": "markdown",
   "id": "99ae0278-9a39-4ca6-ae68-b6df098da80b",
   "metadata": {},
   "source": [
    "### Accès aux variables `xarray»\n",
    "\n",
    "Notez que les coordonnées et les variables de données dans les ensembles de données «XArray» sont accessibles de deux manières différentes.\n",
    "\n",
    "- Le nom de la coordonnée ou de la variable utilisée comme clé de dictionnaire: `ds ['lwe_thickness']` ou `ds ['temps']`\n",
    "- Le nom de la coordonnée ou de la variable utilisée comme attribut: `ds.lwe_thickness` ou` ds.time`\n",
    "\n",
    "Quelle que soit la syntaxe que vous utilisez, le résultat est le même."
   ]
  },
  {
   "cell_type": "markdown",
   "id": "b151cc38-a61a-4639-9b49-1472301969ea",
   "metadata": {},
   "source": [
    "---\n",
    "\n",
    "## Penser aux tableaux multidimensionnels\n",
    "\n",
    "** Rouvons notre ensemble de données à l'aide de `Open_MFDATASET ()`. ** Rappelons que nous utilisons le `Open_MFDATASET ()` de `XArray` chaque fois que nous voulons ouvrir plusieurs fichiers comme s'il s'agissait d'un seul ensemble de données. Ici, nous n'avons qu'un seul fichier, mais nous prétendons qu'il s'agit de plusieurs fichiers car il contient une image d'anomalie TWS globale pour plusieurs dates."
   ]
  },
  {
   "cell_type": "code",
   "execution_count": null,
   "id": "0af0ea44-2413-4207-9128-e006bf82d03e",
   "metadata": {},
   "outputs": [],
   "source": [
    "ds = xr.open_mfdataset('data_raw/GRACE/GRCTellus.JPL.200204_202311.GLO.RL06.1M.MSCNv03CRI.nc')"
   ]
  },
  {
   "cell_type": "markdown",
   "id": "0bfd2a9a-e794-41a6-8634-785e4c9645c5",
   "metadata": {},
   "source": [
    "Comme nous l'avons vu, les fichiers NetCDF4 et HDF5 peuvent être représentés sous forme de jeux de données `xArray»."
   ]
  },
  {
   "cell_type": "code",
   "execution_count": null,
   "id": "14dc1a93-2643-4c8f-ae9a-fc5679b6d37d",
   "metadata": {},
   "outputs": [],
   "source": [
    "type(ds)"
   ]
  },
  {
   "cell_type": "markdown",
   "id": "e944c1bc-86d9-46cb-9722-87be15238641",
   "metadata": {},
   "source": [
    "Un ensemble de données peut contenir plus d'une variable, chacun représenté comme un tableau multidimensionnel.\n",
    "\n",
    "Il existe différentes façons de représenter des tableaux dans Python. Lorsque nous utilisons «XArray», les variables sont représentées comme DataArrays."
   ]
  },
  {
   "cell_type": "code",
   "execution_count": null,
   "id": "4b32c160-dafa-4981-b109-ae1d0e782f13",
   "metadata": {},
   "outputs": [],
   "source": [
    "type(ds['lwe_thickness'])"
   ]
  },
  {
   "cell_type": "markdown",
   "id": "9a298fe4-6b4d-4b01-b1e9-ed955a845a0c",
   "metadata": {},
   "source": [
    "Le `XARray 'DataArray est généralement juste un type spécial de tableau Numpy. Mais lorsque nous utilisons `xarray.open_mfdataset ()` Nous obtenons un nouveau type de tableau."
   ]
  },
  {
   "cell_type": "code",
   "execution_count": null,
   "id": "086ea5d3-ac04-40ce-b7c5-a768b72721ef",
   "metadata": {},
   "outputs": [],
   "source": [
    "type(ds['lwe_thickness'].data)"
   ]
  },
  {
   "attachments": {},
   "cell_type": "markdown",
   "id": "ad044bbe-c7cc-4f36-90ac-ccf3a48720ae",
   "metadata": {},
   "source": [
    "** La bibliothèque `Dask` est automatiquement utilisée pour représenter notre tableau multidimensionnel sous-jacent. plusieurs fichiers.\n",
    "\n",
    "** Mais en utilisant `xarray.open_mfdataset ()` pour accumuler plusieurs fichiers ensemble dans une série temporelle, nous avons également acquis une nouvelle façon de penser à nos données. ** Chaque fichier individuel représentait essentiellement une image 2D: l'anomalie TWS sur une grille de latitude-longitude. Avec plusieurs dates d'image empilées, nous obtenons un cube de données 3D **, ** avec X (longitude), y (latitude) et des axes temporels. Les ensembles de données «XArray» peuvent afficher une illustration utile lorsque nous les utilisons dans un cahier Jupyter."
   ]
  },
  {
   "cell_type": "code",
   "execution_count": null,
   "id": "69d4fae6-28d4-4591-96d1-7bcc64593308",
   "metadata": {},
   "outputs": [],
   "source": [
    "ds['lwe_thickness'].data"
   ]
  },
  {
   "cell_type": "markdown",
   "id": "5ae8096e-24f8-4b09-bb85-7a815d07ba5d",
   "metadata": {},
   "source": [
    "Lors de l'analyse des cubes de données, nous essayons généralement de répondre à l'une de ces questions:\n",
    "\n",
    "1. Comment une variable climatique dans un ou plusieurs emplacements varie-t-elle au fil du temps?\n",
    "1. Comment une variable climatique à un certain moment varie-t-elle sur l'espace?\n",
    "1. Comment la variabilité climatique (variation dans le temps) se compare-t-elle dans l'espace?\n",
    "\n",
    "Les deux premières questions ne nécessitent pas un cube de données pour répondre, mais nous devons souvent fusionner différents ensembles de données pour y répondre. Nous pourrions nous considérer chanceux de commencer par un cube de données, dans ce cas, car nous avons toutes les données en un seul endroit. Ces questions nous obligent à sous-ensemble ou * index * un tableau multidimensionnel.\n",
    "\n",
    "La troisième question ne peut être répondue que si nous commençons par un cube de données; C'est une question qui nous oblige à agréger ou à s'effondrer * un axe de notre cube de données."
   ]
  },
  {
   "cell_type": "markdown",
   "id": "74be7029-4fe1-4f4c-999c-d0827dd0d184",
   "metadata": {},
   "source": [
    "### Mise à jour des systèmes de coordonnées\n",
    "\n",
    "Rappelez-vous que les ensembles de données «xArray» ont des systèmes de coordonnées, qui codent les informations spatiales des données."
   ]
  },
  {
   "cell_type": "code",
   "execution_count": null,
   "id": "d3cc8518-930a-45fd-aee3-c1d721eb5143",
   "metadata": {},
   "outputs": [],
   "source": [
    "ds.coords"
   ]
  },
  {
   "cell_type": "markdown",
   "id": "5523d51e-3462-4aa0-a57e-b8b8118ab7d5",
   "metadata": {},
   "source": [
    "Nous pouvons voir que nos données sont sur une grille de latitude à demi-degré-longitude; c'est-à-dire que chaque pixel est de 0,5 degrés par 0,5 degrés.\n",
    "\n",
    "Vous avez peut-être remarqué que si les latitudes, ou les valeurs «lat», s'étendent à -90 degrés à 90 degrés, les valeurs de longitude ou «lon», s'étendent 0 à 360 degrés. Nous avons l'habitude de parler de longitudes qui s'étendent sur -180 degrés (ouest) de longitude à 180 degrés (est) de longitude. Comment pouvons-nous résoudre ce problème?\n",
    "\n",
    "#### & # x1F6A9; <span style = \"Color: Red\"> Faites attention </DID>\n",
    "\n",
    "** Changeons nos valeurs de «lon» afin qu'elles soient plus faciles à travailler. Maintenant 180."
   ]
  },
  {
   "cell_type": "code",
   "execution_count": null,
   "id": "4c321238-04ff-4432-bf17-ff032f923bf5",
   "metadata": {},
   "outputs": [],
   "source": [
    "# Run this only once!\n",
    "ds.coords['lon'] = ds.coords['lon'] - 180"
   ]
  },
  {
   "cell_type": "code",
   "execution_count": null,
   "id": "af4b5669-75e7-4390-9212-43a551744d10",
   "metadata": {},
   "outputs": [],
   "source": [
    "ds.coords"
   ]
  },
  {
   "cell_type": "markdown",
   "id": "ee936d9e-5c19-498b-917e-f3b04fe9be7b",
   "metadata": {},
   "source": [
    "** Les coordonnées sont comme des étiquettes pour les points de données de notre cube de données, tandis que les dimensions sont les axes du cube de données. ** Nous pouvons appliquer plusieurs étiquettes à la même dimension. Par exemple, nous avons à la fois une dimension nommée «Time» et un ensemble de coordonnées nommé «Time». La coordonnée du temps \"décrit le moment précis dans le temps jusqu'à la nanoseconde (NS), mais nous pourrions également étiqueter les points de temps de notre ensemble de données d'ici l'année, le mois, la saison ou le jour.\n",
    "\n",
    "** Ajoutons une nouvelle coordonnée de «l'année» à notre ensemble de données, afin que nous puissions identifier les points de données individuels par une année courante. Ensuite, nous utilisons [la méthode `Assign_Coords ()`] (https://docs.xarray.dev/en/stable/generated/xarray.dataset.assign_coords.html) d'un `xarray.dataset` le long d'une dimension existante."
   ]
  },
  {
   "cell_type": "code",
   "execution_count": null,
   "id": "634a176a-a1db-418b-a701-bd25cd32f1c5",
   "metadata": {},
   "outputs": [],
   "source": [
    "# Get a list of all the dates from the \"time\" coordinate\n",
    "dates = ds.coords['time'].values"
   ]
  },
  {
   "cell_type": "markdown",
   "id": "60e89b40-70f3-4f14-a0a1-d1db69ba101d",
   "metadata": {},
   "source": [
    "Jetez un œil à ce que contient les «dates».\n",
    "\n",
    "`` Python\n",
    "dates\n",
    "`` '"
   ]
  },
  {
   "cell_type": "code",
   "execution_count": null,
   "id": "25e013da-5f69-4c26-ad8b-8f302edc2d28",
   "metadata": {},
   "outputs": [],
   "source": [
    "# Convert each \"datetime64[ns]\" object to a 4-digit year\n",
    "years_list = []\n",
    "for each in dates:\n",
    "    years_list.append(int(str(each)[0:4]))"
   ]
  },
  {
   "cell_type": "markdown",
   "id": "4086fd89-d2d5-4704-b8d6-5e0ad9042c6d",
   "metadata": {},
   "source": [
    "Jetez un œil à ce que contient `` Years_list '.\n",
    "\n",
    "`` Python\n",
    "années_liste\n",
    "`` '"
   ]
  },
  {
   "cell_type": "code",
   "execution_count": null,
   "id": "9dc860d2-b465-4011-9069-1c7f11199d4a",
   "metadata": {},
   "outputs": [],
   "source": [
    "# Create a new coordinate (\"year\") along an existing dimension (\"time\")\n",
    "ds = ds.assign_coords(year = ('time', years_list))\n",
    "ds"
   ]
  },
  {
   "cell_type": "markdown",
   "id": "d28d1629-1ec6-4def-a64d-60d3fcc30a0f",
   "metadata": {},
   "source": [
    "---\n",
    "\n",
    "## Indexation d'un tableau multidimensionnel\n",
    "\n",
    "Nous pouvons couper notre cube de données plusieurs façons différentes de répondre à différentes questions. Par exemple, à quoi ressemblent les 20 dernières années d'anomalies TWS dans l'ouest des États-Unis, étant donné que la sécheresse multi-décadale a ressentie que la région a ressentie?\n",
    "\n",
    "Commençons par regarder le pixel qui contient Sacramento, ca. Trancher notre tableau à ce seul pixel équivaut à prendre une mince étable le long de l'axe de temps; Comme illustré ci-dessous, nous nous retrouvons avec ce qui est essentiellement un tableau 1D de 220 valeurs (pour 220 mois de données)."
   ]
  },
  {
   "cell_type": "code",
   "execution_count": null,
   "id": "23435a53-7c94-49d2-be09-70552df50072",
   "metadata": {},
   "outputs": [],
   "source": [
    "ds['lwe_thickness'].sel(lon = -121.75, lat = 38.25).data"
   ]
  },
  {
   "cell_type": "markdown",
   "id": "754c4dc0-d86f-4b03-8d78-993ccc1bb1f2",
   "metadata": {},
   "source": [
    "Cela équivaut à trancher notre tableau le long des axes x et y (longitude et latitude), comme nous pouvons le voir ci-dessous."
   ]
  },
  {
   "cell_type": "code",
   "execution_count": null,
   "id": "890eb508-ff50-4f3b-8bee-fd75abf6091c",
   "metadata": {},
   "outputs": [],
   "source": [
    "# Three dimensions: (time, lat, lon)\n",
    "ds['lwe_thickness'].shape"
   ]
  },
  {
   "cell_type": "code",
   "execution_count": null,
   "id": "414f3e3b-d735-45a7-9bdc-ce4cc693333c",
   "metadata": {},
   "outputs": [],
   "source": [
    "# Take the first pixel along the \"lat\" dimension and the first pixel along the \"lon\" dimension\n",
    "ds['lwe_thickness'][:,0,0].data"
   ]
  },
  {
   "cell_type": "markdown",
   "id": "1cf589a3-1069-4543-83d8-3ecd9df592dd",
   "metadata": {},
   "source": [
    "Les données pourraient être représentées comme une série chronologique, car nous avons une valeur au fil du temps."
   ]
  },
  {
   "cell_type": "code",
   "execution_count": null,
   "id": "1c651002-f43a-4c98-a522-5d36774b852a",
   "metadata": {},
   "outputs": [],
   "source": [
    "ds['lwe_thickness'].sel(lon = -121.75, lat = 38.25).plot(figsize = (12, 6))"
   ]
  },
  {
   "cell_type": "markdown",
   "id": "4a7ed1a9-ff86-4088-aa52-183fac552fd3",
   "metadata": {},
   "source": [
    "** Si nous voulions regarder plusieurs pixels représentant une région d'intérêt, nous tranchons toujours notre tableau le long de l'axe temporel, mais nous finissons par un cube de données plus petit. **\n",
    "\n",
    "Rappelez-vous que la fonction «Slice ()» intégrée peut être utilisée en combinaison avec la méthode «sel ()» de `xarray» pour sélectionner une région d'intérêt. Dans ce cas, notre région mesure 10 pixels de 10 pixels de haut."
   ]
  },
  {
   "cell_type": "code",
   "execution_count": null,
   "id": "a480183f-79ca-4564-ae3e-0fb4d59c5da7",
   "metadata": {},
   "outputs": [],
   "source": [
    "west_us = ds['lwe_thickness'].sel(lon = slice(-124, -114), lat = slice(32, 42))\n",
    "west_us.data"
   ]
  },
  {
   "cell_type": "markdown",
   "id": "62df2604-8ad9-4b34-ba33-16a7c8aa302e",
   "metadata": {},
   "source": [
    "Il n'y a pas de moyen facile de visualiser les valeurs d'un cube de données 3D, donc lorsque nous demandons à «XArray» de tracer les données, cela nous montre simplement un histogramme, en mettant essentiellement toutes les valeurs du cube de données ensemble."
   ]
  },
  {
   "cell_type": "code",
   "execution_count": null,
   "id": "ad1f7ccc-b173-4b81-a8b0-867219c664ea",
   "metadata": {},
   "outputs": [],
   "source": [
    "west_us.plot()"
   ]
  },
  {
   "cell_type": "markdown",
   "id": "781492c1-ba88-42f4-91bf-c0636e7c529e",
   "metadata": {},
   "source": [
    "Bien sûr, nous pouvons toujours tracer un seul pas de temps en sous-ensemble l'ensemble de données."
   ]
  },
  {
   "cell_type": "code",
   "execution_count": null,
   "id": "baf6e097-3b5e-4124-ac06-faaed41727a7",
   "metadata": {},
   "outputs": [],
   "source": [
    "west_us.sel(time = '2003-01-01', method = 'nearest').plot()"
   ]
  },
  {
   "cell_type": "markdown",
   "id": "7db043bc-0669-4d6b-a758-24d41530e991",
   "metadata": {},
   "source": [
    "D'après l'apparence de cette image (et si nous examinons les valeurs de tableau sous-jacentes), nous pouvons déduire que si cet ensemble de données de latitude-longitude a une résolution spatiale de 0,5 degrés, les valeurs sont répétées dans certaines zones parce que [la résolution spatiale réelle de la Les données sont plus proches de 300 km] (https://grace.jpl.nasa.gov/about/faq/)."
   ]
  },
  {
   "cell_type": "markdown",
   "id": "fb75b960-53f2-4dda-8aa7-0ff5b45b0638",
   "metadata": {},
   "source": [
    "---\n",
    "\n",
    "## Aggrégation le long de l'axe d'un tableau multidimensionnel\n",
    "\n",
    "Comme l'histogramme ci-dessus le suggère, nous avons besoin d'un moyen de transformer notre cube de données afin de mieux visualiser les données et de répondre à certaines de nos questions.\n",
    "\n",
    "** Quelle est l'anomalie TWS moyenne dans notre zone d'étude dans chaque mois? ** On peut répondre en moyenne sur le domaine spatial. Nous pouvons visualiser cela comme une moyenne de chaque tranche de 10 par 10 pixels dans notre cube de données, pour chaque pas de temps mensuel."
   ]
  },
  {
   "cell_type": "code",
   "execution_count": null,
   "id": "1b46e662-8ec1-4691-a2eb-09f59ac939ce",
   "metadata": {},
   "outputs": [],
   "source": [
    "west_us.data"
   ]
  },
  {
   "cell_type": "markdown",
   "id": "d00b8c8e-877e-4f3f-9e40-a0397f355c16",
   "metadata": {},
   "source": [
    "Si nous spécifions que nous voulons en moyenne l'un de nos axes spatiaux, nous passons d'un tableau 3D à un tableau 2D; c'est-à-dire, ** Nous avons effondré l'un de nos axes. **"
   ]
  },
  {
   "cell_type": "code",
   "execution_count": null,
   "id": "f73fa649-a0d5-4445-906f-4bfdb2a40944",
   "metadata": {},
   "outputs": [],
   "source": [
    "west_us.mean('lat').data"
   ]
  },
  {
   "cell_type": "markdown",
   "id": "2e610300-5863-4dee-a4e3-d1d59db3d088",
   "metadata": {},
   "source": [
    "Plus précisément, nous avons perdu la dimension `\" lat \", comme nous pouvons le voir ci-dessous."
   ]
  },
  {
   "cell_type": "code",
   "execution_count": null,
   "id": "dca24f3c-2db2-4ae8-92f5-71bf753d1922",
   "metadata": {},
   "outputs": [],
   "source": [
    "west_us.mean('lat').dims"
   ]
  },
  {
   "cell_type": "markdown",
   "id": "00f332e0-f3d5-42ff-97a8-f05d211bd73a",
   "metadata": {},
   "source": [
    "Montons en moyenne plus de deux de nos axes spatiaux: en moyenne sur la latitude * et * la longitude. Cela signifie que nous passons d'un tableau 3D à un tableau 1D; Bien qu'il soit représenté, ci-dessous, en tant que réseau 2D, nous avons un axe trivial de longueur un (1), nous n'avons donc vraiment qu'une séquence 1D de 220 valeurs."
   ]
  },
  {
   "cell_type": "code",
   "execution_count": null,
   "id": "48288fa2-6062-4733-a129-e643bef9082d",
   "metadata": {},
   "outputs": [],
   "source": [
    "west_us.mean(['lat', 'lon']).data"
   ]
  },
  {
   "cell_type": "markdown",
   "id": "febecebc-1db2-4eda-b5ca-b56f9d43cac2",
   "metadata": {},
   "source": [
    "Et comme nous avons une série chronologique 1D d'anomalies TWS, nous pouvons les visualiser comme un tracé de ligne. De ce complot, nous pouvons voir que la sécheresse multi-décennale dans l'ouest des États-Unis s'est aggravée ces dernières années."
   ]
  },
  {
   "cell_type": "code",
   "execution_count": null,
   "id": "36c2b873-b664-4cb7-8bae-687239ac56cd",
   "metadata": {},
   "outputs": [],
   "source": [
    "west_us.mean(['lat', 'lon']).plot(figsize = (12, 6))"
   ]
  },
  {
   "attachments": {},
   "cell_type": "markdown",
   "id": "3d141d60-cddd-4507-ac93-a6d40dacc805",
   "metadata": {},
   "source": [
    "---\n",
    "\n",
    "## rééchantillonnant une série chronologique\n",
    "\n",
    "Une autre tâche d'analyse des données courante que nous pourrions vouloir effectuer avec les données de séries chronologiques consiste à réagir les données; Par exemple, pouvons-nous calculer l'anomalie moyenne * annuelle * TWS, pour mieux caractériser les années humides et sèches?"
   ]
  },
  {
   "cell_type": "code",
   "execution_count": null,
   "id": "84810c53-f376-416f-9fbf-23bbd27d6dc9",
   "metadata": {},
   "outputs": [],
   "source": [
    "west_us.data"
   ]
  },
  {
   "cell_type": "markdown",
   "id": "adfbba35-3222-4924-b227-231e1f473c8a",
   "metadata": {},
   "source": [
    "[La méthode `resample ()` d'une `xarray.dataarray`] (https://docs.xarray.dev/en/stable/generated/xarray.dataarray.onleample.html) est le meilleur moyen d'agréger les séries temporelles données."
   ]
  },
  {
   "cell_type": "code",
   "execution_count": null,
   "id": "1176a193-8ee7-451a-bf57-1222d6dff409",
   "metadata": {},
   "outputs": [],
   "source": [
    "west_us_annual = west_us.resample(time = 'YS').mean()\n",
    "west_us_annual.data"
   ]
  },
  {
   "cell_type": "markdown",
   "id": "0c1bceef-655a-424b-8c3c-fc9aea74ae11",
   "metadata": {},
   "source": [
    "La syntaxe `temps = 'ys' ', ci-dessus, indique que le * début de l'année * (` ys »abrégé) doit être utilisé comme fréquence de rééchantillonnage; c'est-à-dire calculer la moyenne pour chaque année. Cette syntaxe provient de la bibliothèque «Pandas». \n",
    "\n",
    "& # x1F449; [** En savoir plus sur `resample ()` et rééchantillonnage des fréquences ici. **] (https://pandas.pydata.org/pandas-docs/stable/user_guide/timeseries.html#dateoffset-objects)"
   ]
  },
  {
   "cell_type": "markdown",
   "id": "3c60fd29-4f19-4c46-9fa0-7b423437d627",
   "metadata": {},
   "source": [
    "Nous devons également utiliser `Resemple () 'pour certains calculs que nous effectuons, tels que le calcul des tendances temporelles, où les unités d'une tendance sont libellées par l'unité de temps (par exemple,\" par jour \"ou\" par an \"). En effet, `COARSEN () 'ne change pas l'unité de temps; Dans ce cas, cela ne change pas les unités de temps de jours à des années.\n",
    "\n",
    "Ainsi, en général, avec les axes de séries chronologiques, il est préférable d'utiliser la méthode `Reslempl () 'de DataArray.\n",
    "\n",
    "Mais notez que lorsque nous rééchantillons le long d'une dimension donnée, toutes les étiquettes de coordonnées ne sont pas conservées. Dans ce cas, `xarray` ne sait pas comment attribuer une étiquette« année »aux coordonnées rééchantillonnées."
   ]
  },
  {
   "cell_type": "code",
   "execution_count": null,
   "id": "34b2bf6d-8922-4478-bb36-bd704d091a00",
   "metadata": {},
   "outputs": [],
   "source": [
    "# We lost the \"year\" coordinate\n",
    "west_us_annual.coords"
   ]
  },
  {
   "cell_type": "markdown",
   "id": "26643a82-1f08-4b60-8e89-6a28ea444edf",
   "metadata": {},
   "source": [
    "#### & # x1F6A9; <span style = \"Color: Red\"> Faites attention </DID>\n",
    "\n",
    "Mais dans ce cas particulier, puisque nous sommes intéressés à agréger par année, de toute façon, nous n'avons pas à utiliser «resample ()»; Nous pouvons utiliser `GroupBy () 'pour indiquer que nous voulons prendre la moyenne dans chaque étiquette de coordonnées« année »."
   ]
  },
  {
   "cell_type": "code",
   "execution_count": null,
   "id": "0e775453-ff8b-4ede-b6bd-aac2c09fb739",
   "metadata": {},
   "outputs": [],
   "source": [
    "west_us_annual = west_us.groupby('year').mean()\n",
    "west_us_annual"
   ]
  },
  {
   "cell_type": "markdown",
   "id": "db556059-dd94-4d69-80fc-8d08bfc83773",
   "metadata": {},
   "source": [
    "### Gestion des données manquantes\n",
    "\n",
    "Avec des DATSET basés sur des satellites comme cet ensemble de données TWS, il y a toujours une possibilité de données manquantes. Par exemple, il y a un écart en 2017 et 2018 à la fin de la mission Grace, avant le lancement du satellite Grace-Fo. Il manque également des mois en 2002, avant le lancement de Grace en mars, et les données Grace-Fo 2023 n'incluent pas décembre 2023, car elles sont toujours en cours de traitement.\n",
    "\n",
    "& # x1F449; ** Notez que, parce que vous accédez à ces données du cloud de la NASA, vous pouvez constater que des données plus récentes (avec moins de mois manquantes) sont disponibles! **\n",
    "\n",
    "Ci-dessous, nous comptons combien de mois sont disponibles chaque année."
   ]
  },
  {
   "cell_type": "code",
   "execution_count": null,
   "id": "5ae3ad63-f52c-4abc-b884-a961dc489664",
   "metadata": {},
   "outputs": [],
   "source": [
    "counts = ds.groupby('year').count()\n",
    "\n",
    "# Get a value (the count) in each year for an arbitrary pixel, skipping the first year (2002)\n",
    "counts['lwe_thickness']"
   ]
  },
  {
   "cell_type": "markdown",
   "id": "558d9fdc-7c84-4fc0-9a36-1bb61d27f1b0",
   "metadata": {},
   "source": [
    "** Cependant, nous obtenons un compte des mois dans chaque pixel! ** Nous voulons juste le décompte pour un pixel (arbitraire) car, avec ce produit TWS modélisé, la disponibilité des données est la même pour chaque pixel."
   ]
  },
  {
   "cell_type": "code",
   "execution_count": null,
   "id": "40ff8c3f-5108-47ee-b52a-1772ef590683",
   "metadata": {},
   "outputs": [],
   "source": [
    "# Get the count at an arbitrary pixel: the top-left (0,0) corner\n",
    "counts_by_year = counts['lwe_thickness'][:,0,0].values\n",
    "counts_by_year"
   ]
  },
  {
   "cell_type": "markdown",
   "id": "2d907473-d26a-4b2c-8fd4-07881046356e",
   "metadata": {},
   "source": [
    "Il est évident qui nous manque plusieurs mois de données, en particulier en 2017 et 2018 (seulement 5 mois disponibles chaque année) entre les missions Grace et Grace-Fo.\n",
    "\n",
    "Nous devons d'abord nous assurer que nous avons au moins quelques données chaque année. Ci-dessous, nous pouvons voir que notre axe temporel a 21 éléments (21 ans). Cela s'aligne avec nos dénombrements mensuels lorsque nous ignorons la première année (2002)."
   ]
  },
  {
   "cell_type": "code",
   "execution_count": null,
   "id": "e8a8f8a2-3119-4895-b963-f55ca7e00ef2",
   "metadata": {},
   "outputs": [],
   "source": [
    "west_us_annual.shape"
   ]
  },
  {
   "cell_type": "code",
   "execution_count": null,
   "id": "69cbf493-014e-43ea-b596-a1bae6e3f69a",
   "metadata": {},
   "outputs": [],
   "source": [
    "counts_by_year.size"
   ]
  },
  {
   "cell_type": "markdown",
   "id": "6a58ff95-b590-4603-9fc7-2a5205126aab",
   "metadata": {},
   "source": [
    "** Imposons une règle: nous avons besoin d'au moins 9 mois de données chaque année pour une moyenne annuelle fiable. **"
   ]
  },
  {
   "cell_type": "code",
   "execution_count": null,
   "id": "31c56e4d-e476-40b6-b26f-f1bdbd76fd64",
   "metadata": {},
   "outputs": [],
   "source": [
    "mask = counts_by_year < 9\n",
    "mask"
   ]
  },
  {
   "cell_type": "code",
   "execution_count": null,
   "id": "fbbbace1-3b71-41d0-889b-ba86c03c3c2e",
   "metadata": {},
   "outputs": [],
   "source": [
    "west_us_annual[mask] = np.nan"
   ]
  },
  {
   "cell_type": "markdown",
   "id": "6eb025f7-1c88-473c-b1de-4f063b22e1ef",
   "metadata": {},
   "source": [
    "Il convient de rappeler qu'un correctif connexe pour ce problème, si tous les points de données valides étaient consécutifs, serait de prendre une tranche:"
   ]
  },
  {
   "cell_type": "code",
   "execution_count": null,
   "id": "00eb877f-4ec7-4ffb-a617-df95619f61eb",
   "metadata": {},
   "outputs": [],
   "source": [
    "# A related fix, if the valid data points were all consecutive\n",
    "west_us_annual = west_us_annual.sel(year = slice(2003, 2023))\n",
    "west_us_annual.year"
   ]
  },
  {
   "cell_type": "markdown",
   "id": "18db9004-6633-4cb3-b8b0-82a139764df7",
   "metadata": {},
   "source": null
  },
  {
   "cell_type": "markdown",
   "id": "647259df-87bd-41b8-92e0-b990b9c2dff1",
   "metadata": {},
   "source": [
    "Les intervalles de temps d'agrégation ne sont qu'une des nombreuses choses intéressantes qu'un `XArray.DataArray 'peut faire! [Consultez la documentation `xarray` pour en savoir plus.] (Https://docs.xarray.dev/en/stable/generated/xarray.dataarray.html)"
   ]
  },
  {
   "cell_type": "code",
   "execution_count": null,
   "id": "83e87b08-c0f5-4a34-9772-eba48ec6fcd4",
   "metadata": {},
   "outputs": [],
   "source": [
    "west_us_annual.mean(['lat','lon']).plot()"
   ]
  },
  {
   "cell_type": "markdown",
   "id": "28fb029a-c2eb-46ff-af3c-2010d987910a",
   "metadata": {},
   "source": [
    "Nous pouvons observer une tendance générale à la baisse dans les données, ce qui est conforme à la sécheresse depuis des décennies que la région a ressentie (Liu et al. 2022)."
   ]
  },
  {
   "cell_type": "markdown",
   "id": "9d979d10-2990-4d35-8f2a-2a9304918513",
   "metadata": {},
   "source": [
    "---\n",
    "\n",
    "## Visualiser la variation dans l'espace\n",
    "\n",
    "Dans l'exemple précédent, nous avons rééchantillonné nos données sur l'axe temporel (au fil du temps). Mais notre ensemble de données a également des coordonnées spatiales! Nous voulons souvent visualiser comment la variation temporelle se compare entre différents emplacements. Il s'agit simplement de rééchantillonner notre cube de données d'une manière différente."
   ]
  },
  {
   "cell_type": "code",
   "execution_count": null,
   "id": "5291ec10-6181-40a0-a702-6970bb832fa0",
   "metadata": {},
   "outputs": [],
   "source": [
    "west_us_annual.data"
   ]
  },
  {
   "cell_type": "markdown",
   "id": "d41adb10-8406-460f-8466-27d91bf46863",
   "metadata": {},
   "source": [
    "Nous pourrions calculer une moyenne interannuelle simple. Cela effondre notre cube de données à deux dimensions spatiales, la latitude et la longitude."
   ]
  },
  {
   "cell_type": "code",
   "execution_count": null,
   "id": "91e7fa27-7f59-4956-8ef8-c0444624e236",
   "metadata": {},
   "outputs": [],
   "source": [
    "west_us_annual.mean('year').data"
   ]
  },
  {
   "cell_type": "markdown",
   "id": "5de116d2-7623-4f13-b436-1940cc260599",
   "metadata": {},
   "source": [
    "** Cependant, ce serait beaucoup plus intéressant si nous pouvions calculer les tendances au niveau des pixels dans les anomalies TWS annuelles. **\n",
    "\n",
    "Parce que nous travaillons avec `xarray ', une bibliothèque Python très efficace et mature pour travailler avec des tableaux multidimensionnels, c'est une bonne idée de vérifier si la fonctionnalité que nous voulons est déjà intégrée à la classe` xarray.dataarray`. En effet, il existe deux fonctions qui pourraient aider ici:\n",
    "\n",
    "- `dataArray.curveFit ()` [(documentation)] (https://docs.xarray.dev/en/stable/generated/xarray.dataarray.curvefit.html#xarray.dataarray.curvefit)\n",
    "- `dataarray.polyfit ()` [(documentation)] (https://docs.xarray.dev/en/stable/generated/xarray.dataarray.polyfit.html#xarray.dataarray.polyfit)\n",
    "\n",
    "L'un ou l'autre peut être utilisé pour ajuster une fonction à un ensemble de points de données. Cependant, nous voulons utiliser `Polyfit () 'aujourd'hui parce que nous montons une fonction simple (une tendance linéaire) qui devrait avoir [une solution de forme fermée] (https://en.wikipedia.org/wiki/cosé-forme_expression ). Un polynôme \"degré 1\" est une ligne droite car, dans la fonction impliquée, $ y (x) = mx + b $, $ x $ est augmenté à la puissance de 1: $ x ^ 1 $."
   ]
  },
  {
   "cell_type": "code",
   "execution_count": null,
   "id": "08bb88d7-703c-4073-9f85-d4773c34a79e",
   "metadata": {},
   "outputs": [],
   "source": [
    "fit = west_us_annual.polyfit('year', deg = 1)\n",
    "fit"
   ]
  },
  {
   "cell_type": "code",
   "execution_count": null,
   "id": "7ec58206-f81a-49b3-bea7-af58100534ca",
   "metadata": {},
   "outputs": [],
   "source": [
    "fit['polyfit_coefficients']"
   ]
  },
  {
   "cell_type": "markdown",
   "id": "b36c87c7-d843-46c3-b235-80fc3fefd4a7",
   "metadata": {},
   "source": [
    "** Nous avons obtenu un autre cube de données! ** Ce cube de données a un axe appelé ** degré ** avec deux (2) éléments. Bien que nous ayons demandé un ajustement polynomial à 1 degré, rappelez-vous que nous avons besoin de deux nombres pour décrire une ligne: l'ordonnée Y et la pente."
   ]
  },
  {
   "cell_type": "markdown",
   "id": "51411a0d-5722-4958-b458-a892daef8bd2",
   "metadata": {},
   "source": [
    "#### & # x1F6A9; <span style = \"Color: Red\"> Faites attention </DID>\n",
    "\n",
    "Une autre chose à noter sur notre cube de données est que nous avons une ligne de tendance (interception et pente) pour chacun des 400 pixels. Ces 400 régressions linéaires semblaient très rapides! \n",
    "\n",
    "** En fait, nous n'avons pas encore calculé les régressions linéaires. En effet, nous avons chargé les données TWS dans la mémoire de l'ordinateur en utilisant `xr.open_mfdataset ()`. Par conséquent, «XArray» ne fait aucun calcul jusqu'à ce que nous le demandons explicitement.\n",
    "\n",
    "Alors, que s'est-il passé lorsque nous avons tapé ce qui suit?\n",
    "\n",
    "`` Python\n",
    "fit = west_us_annual.polyfit ('année', deg = 1)\n",
    "`` '\n",
    "\n",
    "Ce qui s'est passé, c'est que nous avons obtenu une ** représentation ** du calcul que nous voulions que «XArray» fonctionne. Nous avons appelé cette représentation «Fit» et cela ressemble à un cube de données parce que c'est à quoi ressemblera le calcul lorsqu'il sera effectué.\n",
    "\n",
    "** Lorsque nous sommes prêts à charger des données ou à calculer les résultats, [nous devons appeler la méthode `calcul ()`.] (Https://docs.xarray.dev/en/stable/generated/xarray.dataarray. .html) **"
   ]
  },
  {
   "cell_type": "code",
   "execution_count": null,
   "id": "7b57564b-0c52-4bb2-875f-bf76ffa26d32",
   "metadata": {},
   "outputs": [],
   "source": [
    "# Get a representation of the computation we want to do\n",
    "fit = west_us_annual.polyfit('year', deg = 1)\n",
    "\n",
    "# Actually run the computation\n",
    "results = fit.compute()\n",
    "\n",
    "# Look at the coefficients\n",
    "results['polyfit_coefficients']"
   ]
  },
  {
   "cell_type": "markdown",
   "id": "73f8a6c4-9499-4adb-8dba-4d83952c2759",
   "metadata": {},
   "source": [
    "En effet, `xArray` utilise ** Évaluation paresseuse; ** Les données ne sont chargées que dans la mémoire et traitées lorsqu'elle est nécessaire. Cela aide à éviter les opérations peu sûres et souvent lentes, lues et écrites.\n",
    "\n",
    "** Il existe deux façons de s'assurer que les calculs sur les ensembles de données et les données de données `xarray 's'exécutent réellement lorsque vous le souhaitez: **\n",
    "\n",
    "- Appelez la méthode `calcul () ', comme dans l'exemple ci-dessus.\n",
    "- ou, essayez d'accéder à la propriété `` valeurs ', comme dans l'exemple ci-dessous.\n",
    "\n",
    "`` Python\n",
    "ajuster ['polyfit_coefficients'].\n",
    "`` '"
   ]
  },
  {
   "cell_type": "markdown",
   "id": "333381dc-cb33-480c-b860-671477aafd35",
   "metadata": {},
   "source": [
    "---\n",
    "\n",
    "## Résumé\n",
    "\n",
    "Voici les principaux outils et techniques Python à retenir de cette leçon:\n",
    "\n",
    "- Vous pouvez utiliser `xarray.open_mfdataset ()` pour ouvrir plusieurs fichiers en tant que jeu de données `XArray». Par exemple, vous pourriez écrire\n",
    "  `data = xarray.open_mfdataset (\" prepip_in_year_y * .nc \")` Pour ouvrir une série de fichiers de données annuels de précipitations.\n",
    "  \n",
    "- Les attributs (ou métadonnées) de tout fichier ouvert dans `xArray` sont accessibles via:` data.attrs`\n",
    "  \n",
    "- Les ensembles de données `xArray` sont également parfois appelés ** Cubes de données. ** Vous pouvez agréger un ou plusieurs axes ** ** (ou\" Dimensions \") du cube de données à l'aide de méthodes comme` Mean () '; Par exemple, en moyenne sur les deux dimensions spatiales de la longitude et de la latitude: `données ['variable']. Mean (['lon', 'lat'])`.\n",
    "  \n",
    "- Pour trancher un cube de données le long d'un ou plusieurs axes, utilisez la méthode `sel ()`, par exemple: `data ['variable']. Sel (lon = -121,75, lat = 38.25)`.\n",
    "\n",
    "- La méthode `Reslemple ()` d'une `xarray.dataarray` ou` xarray.dataset »doit être utilisée pour agréger les données de séries chronologiques. Par exemple, pour agréger les données horaires en pas de temps quotidiens ou des données mensuelles en pas de temps annuels. [En savoir plus sur le rééchantillonnage des fréquences ici.] (Https://pandas.pydata.org/pandas-docs/stable/user_guide/timeseries.html#dateoffset-objects)\n",
    "\n",
    "- `XArray` utilise ** Évaluation paresseuse ** pour éviter la lecture, l'écriture ou le calcul des données jusqu'à la dernière minute; Pour forcer `xarray` à charger ou évaluer les données, vous pouvez appeler [la méthode` calcul () `] (https://docs.xarray.dev/en/stable/generated/xarray.dataarray.compute.html) ou accès L'attribut `valeurs` d'un` xArray.dataArray`."
   ]
  },
  {
   "cell_type": "markdown",
   "id": "97e2f97f-1612-40bd-b443-c4278bf478e1",
   "metadata": {},
   "source": [
    "---\n",
    "\n",
    "### Plus de ressources\n",
    "\n",
    "- [Computation sur les ensembles de données et DataArrays `XArray`] (https://docs.xarray.dev/en/stable/user-guide/comportation.html)\n",
    "\n",
    "### références\n",
    "\n",
    "GIEC. * Changement climatique 2021: la base des sciences physiques. Contribution du groupe de travail I au sixième rapport d'évaluation du panel intergouvernemental sur le changement climatique. * 2021. Cambridge University Press, Cambridge, Royaume-Uni et New York, NY, États-Unis, 2391 pp. DOI: 10.1017 / 9781009157896\n",
    "\n",
    "Jain S, Mindlin J, Koren G, Gulizia C, Steadman C, Langendijk GS, Osman M, Abid MA, Rao Y, Rabanal V. 2022. [Sommes-nous à risque de perdre la génération actuelle de chercheurs climatiques à la science des données?] (https://doi.org/10.1029/2022av000676) * Agu avance. *\n",
    "\n",
    "Liu, P.-W., J. S. Famiglietti, A. J. Purdy, K. H. Adams, A. L. McEvoy, J. T. Reager, R. Bindlish, D. N. Wiese, C. H. David et M. Rodell. 2022. [Déplétion des eaux souterraines dans la vallée centrale de Californie accélère pendant MegadRought.] (Https://www.nature.com/articles/s41467-022-35582-x) Nature Communications 13 (1): 7825.\n",
    "\n",
    "`xArray.DataArray` (XArray Documentation). [https://docs.xarray.dev/en/stable/generated/xarray.dataarray.html , 2024."
   ]
  }
 ],
 "metadata": {
  "kernelspec": {
   "display_name": "Python 3 (ipykernel)",
   "language": "python",
   "name": "python3"
  },
  "language_info": {
   "codemirror_mode": {
    "name": "ipython",
    "version": 3
   },
   "file_extension": ".py",
   "mimetype": "text/x-python",
   "name": "python",
   "nbconvert_exporter": "python",
   "pygments_lexer": "ipython3",
   "version": "3.10.12"
  }
 },
 "nbformat": 4,
 "nbformat_minor": 5
}
